{
 "cells": [
  {
   "cell_type": "markdown",
   "metadata": {},
   "source": [
    "![Alt](https://capas-m2.wmixvideo.com.br/cr135456.jpg)\n",
    "# **LossTree Chocolate Factory**"
   ]
  },
  {
   "cell_type": "code",
   "execution_count": 1,
   "metadata": {
    "ExecuteTime": {
     "end_time": "2021-04-24T03:14:51.401925Z",
     "start_time": "2021-04-24T03:14:46.360497Z"
    }
   },
   "outputs": [],
   "source": [
    "import pandas as pd\n",
    "import numpy as np\n",
    "import re\n",
    "import matplotlib.pyplot as plt\n",
    "import seaborn as sns"
   ]
  },
  {
   "cell_type": "code",
   "execution_count": 2,
   "metadata": {
    "ExecuteTime": {
     "end_time": "2021-04-24T03:14:53.658978Z",
     "start_time": "2021-04-24T03:14:52.348071Z"
    },
    "scrolled": false
   },
   "outputs": [],
   "source": [
    "#import dataset previously treated: LossTree_2018_2021.csv\n",
    "data = pd.read_csv('LossTree_2018_2021.csv')\n",
    "pd.set_option('display.max_rows', 1000)"
   ]
  },
  {
   "cell_type": "code",
   "execution_count": 4,
   "metadata": {
    "ExecuteTime": {
     "end_time": "2021-04-24T03:16:26.599552Z",
     "start_time": "2021-04-24T03:16:26.562617Z"
    }
   },
   "outputs": [
    {
     "data": {
      "text/html": [
       "<div>\n",
       "<style scoped>\n",
       "    .dataframe tbody tr th:only-of-type {\n",
       "        vertical-align: middle;\n",
       "    }\n",
       "\n",
       "    .dataframe tbody tr th {\n",
       "        vertical-align: top;\n",
       "    }\n",
       "\n",
       "    .dataframe thead th {\n",
       "        text-align: right;\n",
       "    }\n",
       "</style>\n",
       "<table border=\"1\" class=\"dataframe\">\n",
       "  <thead>\n",
       "    <tr style=\"text-align: right;\">\n",
       "      <th></th>\n",
       "      <th>Unnamed: 0</th>\n",
       "      <th>Conj Datas</th>\n",
       "      <th>Ativo</th>\n",
       "      <th>Shiftkey</th>\n",
       "      <th>tempo inicio</th>\n",
       "      <th>tempo final</th>\n",
       "      <th>Segundos</th>\n",
       "      <th>Minutes</th>\n",
       "      <th>Horas</th>\n",
       "      <th>Cycles</th>\n",
       "      <th>final ciclos</th>\n",
       "      <th>Super Razao</th>\n",
       "      <th>Razão  Lvl1</th>\n",
       "      <th>Razão Lvl2</th>\n",
       "      <th>Razão Lvl3</th>\n",
       "      <th>Razão Lvl4</th>\n",
       "      <th>Notas</th>\n",
       "      <th>SKUs</th>\n",
       "      <th>User</th>\n",
       "    </tr>\n",
       "  </thead>\n",
       "  <tbody>\n",
       "    <tr>\n",
       "      <th>0</th>\n",
       "      <td>0</td>\n",
       "      <td>6601</td>\n",
       "      <td>LINHA 01</td>\n",
       "      <td>2018010101</td>\n",
       "      <td>01/01/2018 06:00</td>\n",
       "      <td>01/01/2018 14:00</td>\n",
       "      <td>28800</td>\n",
       "      <td>480</td>\n",
       "      <td>8</td>\n",
       "      <td>0</td>\n",
       "      <td>0</td>\n",
       "      <td>2-Feriados</td>\n",
       "      <td>Parada Geral</td>\n",
       "      <td>Parada Geral D01</td>\n",
       "      <td>Feriado</td>\n",
       "      <td>NaN</td>\n",
       "      <td>NaN</td>\n",
       "      <td>CHOCOLATE BRANCO 90G</td>\n",
       "      <td>Camargo</td>\n",
       "    </tr>\n",
       "    <tr>\n",
       "      <th>1</th>\n",
       "      <td>1</td>\n",
       "      <td>6601</td>\n",
       "      <td>LINHA 01</td>\n",
       "      <td>2018010102</td>\n",
       "      <td>01/01/2018 14:00</td>\n",
       "      <td>01/01/2018 22:00</td>\n",
       "      <td>28800</td>\n",
       "      <td>480</td>\n",
       "      <td>8</td>\n",
       "      <td>0</td>\n",
       "      <td>0</td>\n",
       "      <td>2-Feriados</td>\n",
       "      <td>Parada Geral</td>\n",
       "      <td>Parada Geral D01</td>\n",
       "      <td>Feriado</td>\n",
       "      <td>NaN</td>\n",
       "      <td>NaN</td>\n",
       "      <td>CHOCOLATE BRANCO 90G</td>\n",
       "      <td>Camargo</td>\n",
       "    </tr>\n",
       "  </tbody>\n",
       "</table>\n",
       "</div>"
      ],
      "text/plain": [
       "   Unnamed: 0  Conj Datas     Ativo    Shiftkey      tempo inicio  \\\n",
       "0           0        6601  LINHA 01  2018010101  01/01/2018 06:00   \n",
       "1           1        6601  LINHA 01  2018010102  01/01/2018 14:00   \n",
       "\n",
       "        tempo final  Segundos Minutes Horas  Cycles  final ciclos Super Razao  \\\n",
       "0  01/01/2018 14:00     28800     480     8       0             0  2-Feriados   \n",
       "1  01/01/2018 22:00     28800     480     8       0             0  2-Feriados   \n",
       "\n",
       "    Razão  Lvl1        Razão Lvl2 Razão Lvl3 Razão Lvl4 Notas  \\\n",
       "0  Parada Geral  Parada Geral D01    Feriado        NaN   NaN   \n",
       "1  Parada Geral  Parada Geral D01    Feriado        NaN   NaN   \n",
       "\n",
       "                   SKUs     User  \n",
       "0  CHOCOLATE BRANCO 90G  Camargo  \n",
       "1  CHOCOLATE BRANCO 90G  Camargo  "
      ]
     },
     "execution_count": 4,
     "metadata": {},
     "output_type": "execute_result"
    }
   ],
   "source": [
    "data.head(2)"
   ]
  },
  {
   "cell_type": "markdown",
   "metadata": {},
   "source": [
    "##### *Data Cleaning and Manipulation*"
   ]
  },
  {
   "cell_type": "code",
   "execution_count": 5,
   "metadata": {
    "ExecuteTime": {
     "end_time": "2021-04-24T03:16:41.992324Z",
     "start_time": "2021-04-24T03:16:41.718992Z"
    }
   },
   "outputs": [],
   "source": [
    "data['Minutes']=data['Segundos'].apply(lambda x: x/60)\n",
    "data['Horas']=data['Segundos'].apply(lambda x: x/3600)"
   ]
  },
  {
   "cell_type": "code",
   "execution_count": 6,
   "metadata": {
    "ExecuteTime": {
     "end_time": "2021-04-24T03:16:42.940584Z",
     "start_time": "2021-04-24T03:16:42.926591Z"
    }
   },
   "outputs": [],
   "source": [
    "data['Minutes']=data['Minutes'].astype(float)\n",
    "data['Horas']=data['Horas'].astype(float)"
   ]
  },
  {
   "cell_type": "code",
   "execution_count": 7,
   "metadata": {
    "ExecuteTime": {
     "end_time": "2021-04-24T03:16:45.685115Z",
     "start_time": "2021-04-24T03:16:45.343064Z"
    }
   },
   "outputs": [],
   "source": [
    "data['Shiftkey']=data['Shiftkey'].astype(str)"
   ]
  },
  {
   "cell_type": "code",
   "execution_count": 8,
   "metadata": {
    "ExecuteTime": {
     "end_time": "2021-04-24T03:16:51.454881Z",
     "start_time": "2021-04-24T03:16:50.779686Z"
    }
   },
   "outputs": [],
   "source": [
    "data['Shift']=data['Shiftkey'].apply(lambda x: x[9:10])\n",
    "data['Date2']=data['Shiftkey'].apply(lambda x: x[:8])\n",
    "data['Date']=data['tempo inicio'].apply(lambda x: x[0:11])\n",
    "data['tempo inicio']=data['tempo inicio'].apply(lambda x: x[11:])\n",
    "data['tempo final']=data['tempo final'].apply(lambda x: x[11:])"
   ]
  },
  {
   "cell_type": "code",
   "execution_count": 9,
   "metadata": {
    "ExecuteTime": {
     "end_time": "2021-04-24T03:16:56.889469Z",
     "start_time": "2021-04-24T03:16:56.520455Z"
    }
   },
   "outputs": [],
   "source": [
    "data['Date1']=data['Date'].apply(lambda x: x[6:10]+x[3:5]+x[0:2])"
   ]
  },
  {
   "cell_type": "code",
   "execution_count": 10,
   "metadata": {
    "ExecuteTime": {
     "end_time": "2021-04-24T03:17:01.664686Z",
     "start_time": "2021-04-24T03:17:01.655709Z"
    }
   },
   "outputs": [],
   "source": [
    "data.rename(columns = {'Razão  Lvl1':'Razao Lvl1','Razão Lvl2':'Razao Lvl2','Razão Lvl3':'Razao Lvl3','Razão Lvl4':'Razao Lvl4'}, inplace = True)"
   ]
  },
  {
   "cell_type": "code",
   "execution_count": 11,
   "metadata": {
    "ExecuteTime": {
     "end_time": "2021-04-24T03:17:10.008030Z",
     "start_time": "2021-04-24T03:17:09.981070Z"
    }
   },
   "outputs": [],
   "source": [
    "data['SKUs'].replace(['DOVE SAB KAR E BAUNILHA 24X2X90G'],'CHOCOLATE & BAUNILHA 90G COMBO2', inplace = True)"
   ]
  },
  {
   "cell_type": "code",
   "execution_count": 12,
   "metadata": {
    "ExecuteTime": {
     "end_time": "2021-04-24T03:17:14.403501Z",
     "start_time": "2021-04-24T03:17:14.183694Z"
    }
   },
   "outputs": [],
   "source": [
    "data['Super Razao'].replace(['1-Perdas legais'], 'Perda 1 - Perdas legais', inplace = True)\n",
    "data['Super Razao'].replace(['2-Feriados'], 'Perda 2 - Feriados', inplace = True)\n",
    "data['Super Razao'].replace(['4- Tempo oscioso'], 'Perda 4 - Tempo Oscioso', inplace = True)\n",
    "data['Super Razao'].replace(['12-Prep e Fim prod'], 'Perda 12 - Prep e Fim Prod', inplace = True)\n",
    "data['Super Razao'].replace(['Uptime'], 'Tempo Efetivo Producao', inplace = True)\n",
    "data['Super Razao'].replace(['18- Pequenas Paradas'], 'Perda 18 - Pequenas Paradas', inplace = True)\n",
    "data['Super Razao'].replace(['21-Medições/Ajustes'], 'Perda 21 - Medicoes e Ajustes', inplace = True)\n",
    "data['Super Razao'].replace(['20-Defeito qualidade'], 'Perda 20 - Defeito Qualidade', inplace = True)\n",
    "data['Super Razao'].replace(['13-Quebra/falha equi'], 'Perda 13 - Quebra Equipamento', inplace = True)\n",
    "data['Super Razao'].replace(['17-Troca ferr corte'], 'Perda 17 - Troca Ferramental', inplace = True)\n",
    "data['Super Razao'].replace(['7-Teste/modific plan'], 'Perda 7 - Testes e Inovação', inplace = True)\n",
    "data['Super Razao'].replace(['11-Troca'], 'Perda 11 - Troca de Produto', inplace = True)\n",
    "data['Super Razao'].replace(['No Superreason'], 'SEM PREENCHIMENTO', inplace = True)\n",
    "data['Super Razao'].replace(['8- Manutenção planej'], 'Perda 8 - Manutenção planej', inplace = True)\n",
    "data['Super Razao'].replace(['10-Tempo limp/Saniti'], 'Perda 10 - Tempo Limpeza', inplace = True)\n",
    "data['Super Razao'].replace(['14-Falha prod ineren'], 'Perda 14 - Falha Prod Inerente', inplace = True)\n",
    "data['Super Razao'].replace(['19-Velocidade Reduz'], 'Perda 19 - Velocidade Reduzida', inplace = True)\n",
    "data['Super Razao'].replace(['5-Parada planejada'], 'Perda 5 - Parada Planejada', inplace = True)\n",
    "data['Super Razao'].replace(['16-Disponib material'], 'Perda 16 - Indisponibilidade Material', inplace = True)\n",
    "data['Super Razao'].replace(['6-Falta Utilidades'], 'Perda 6 - Falta Utilidades', inplace = True)\n",
    "data['Super Razao'].replace(['15- Falta operadores'], 'Perda 15 - Falta Mao de Obra', inplace = True)"
   ]
  },
  {
   "cell_type": "code",
   "execution_count": 13,
   "metadata": {
    "ExecuteTime": {
     "end_time": "2021-04-24T03:17:19.636678Z",
     "start_time": "2021-04-24T03:17:19.425791Z"
    },
    "scrolled": true
   },
   "outputs": [],
   "source": [
    "df = data[['Date1','Ativo','Date','Shift','SKUs','tempo inicio','tempo final','Segundos','Minutes','Horas','Super Razao','Razao Lvl1','Razao Lvl2','Razao Lvl3','Razao Lvl4','User','Notas']]"
   ]
  },
  {
   "cell_type": "markdown",
   "metadata": {},
   "source": [
    "##### *Exploring Data*"
   ]
  },
  {
   "cell_type": "code",
   "execution_count": 14,
   "metadata": {
    "ExecuteTime": {
     "end_time": "2021-04-24T03:17:27.234815Z",
     "start_time": "2021-04-24T03:17:27.224877Z"
    },
    "cell_style": "split"
   },
   "outputs": [
    {
     "data": {
      "text/plain": [
       "(331927, 17)"
      ]
     },
     "execution_count": 14,
     "metadata": {},
     "output_type": "execute_result"
    }
   ],
   "source": [
    "df.shape"
   ]
  },
  {
   "cell_type": "code",
   "execution_count": 15,
   "metadata": {
    "ExecuteTime": {
     "end_time": "2021-04-24T03:17:28.148967Z",
     "start_time": "2021-04-24T03:17:28.129054Z"
    },
    "cell_style": "split"
   },
   "outputs": [
    {
     "data": {
      "text/plain": [
       "Index(['Date1', 'Ativo', 'Date', 'Shift', 'SKUs', 'tempo inicio',\n",
       "       'tempo final', 'Segundos', 'Minutes', 'Horas', 'Super Razao',\n",
       "       'Razao Lvl1', 'Razao Lvl2', 'Razao Lvl3', 'Razao Lvl4', 'User',\n",
       "       'Notas'],\n",
       "      dtype='object')"
      ]
     },
     "execution_count": 15,
     "metadata": {},
     "output_type": "execute_result"
    }
   ],
   "source": [
    "df.columns"
   ]
  },
  {
   "cell_type": "code",
   "execution_count": 16,
   "metadata": {
    "ExecuteTime": {
     "end_time": "2021-04-24T03:17:29.222024Z",
     "start_time": "2021-04-24T03:17:28.943838Z"
    },
    "cell_style": "split"
   },
   "outputs": [
    {
     "name": "stdout",
     "output_type": "stream",
     "text": [
      "<class 'pandas.core.frame.DataFrame'>\n",
      "RangeIndex: 331927 entries, 0 to 331926\n",
      "Data columns (total 17 columns):\n",
      " #   Column        Non-Null Count   Dtype  \n",
      "---  ------        --------------   -----  \n",
      " 0   Date1         331927 non-null  object \n",
      " 1   Ativo         331927 non-null  object \n",
      " 2   Date          331927 non-null  object \n",
      " 3   Shift         331927 non-null  object \n",
      " 4   SKUs          331927 non-null  object \n",
      " 5   tempo inicio  331927 non-null  object \n",
      " 6   tempo final   331927 non-null  object \n",
      " 7   Segundos      331927 non-null  int64  \n",
      " 8   Minutes       331927 non-null  float64\n",
      " 9   Horas         331927 non-null  float64\n",
      " 10  Super Razao   331927 non-null  object \n",
      " 11  Razao Lvl1    331927 non-null  object \n",
      " 12  Razao Lvl2    264972 non-null  object \n",
      " 13  Razao Lvl3    264923 non-null  object \n",
      " 14  Razao Lvl4    182452 non-null  object \n",
      " 15  User          331927 non-null  object \n",
      " 16  Notas         66409 non-null   object \n",
      "dtypes: float64(2), int64(1), object(14)\n",
      "memory usage: 43.1+ MB\n"
     ]
    }
   ],
   "source": [
    "df.info()"
   ]
  },
  {
   "cell_type": "markdown",
   "metadata": {
    "cell_style": "center"
   },
   "source": [
    "##### *Data Manipulation - Aggregation*"
   ]
  },
  {
   "cell_type": "code",
   "execution_count": 17,
   "metadata": {
    "ExecuteTime": {
     "end_time": "2021-04-24T03:20:33.053647Z",
     "start_time": "2021-04-24T03:20:33.047668Z"
    }
   },
   "outputs": [],
   "source": [
    "#Objetivo dos passos seguintes é construir agregações capazes de vincular a soma de tempos baseando nas categorias das colunas de SUPER RAZÃO (natureza de perdas de produção ou o próprio tempo produtivo), DATAS, SKU (variantes de produtos).\n"
   ]
  },
  {
   "cell_type": "code",
   "execution_count": 18,
   "metadata": {
    "ExecuteTime": {
     "end_time": "2021-04-24T03:20:55.345545Z",
     "start_time": "2021-04-24T03:20:55.016324Z"
    }
   },
   "outputs": [],
   "source": [
    "Super_Reason_Shift = df.groupby(by=['Date1','Ativo','Date','Shift', 'SKUs','Super Razao'], as_index=False).sum()"
   ]
  },
  {
   "cell_type": "code",
   "execution_count": 19,
   "metadata": {
    "ExecuteTime": {
     "end_time": "2021-04-24T03:21:12.834008Z",
     "start_time": "2021-04-24T03:21:12.811071Z"
    },
    "scrolled": true
   },
   "outputs": [
    {
     "data": {
      "text/html": [
       "<div>\n",
       "<style scoped>\n",
       "    .dataframe tbody tr th:only-of-type {\n",
       "        vertical-align: middle;\n",
       "    }\n",
       "\n",
       "    .dataframe tbody tr th {\n",
       "        vertical-align: top;\n",
       "    }\n",
       "\n",
       "    .dataframe thead th {\n",
       "        text-align: right;\n",
       "    }\n",
       "</style>\n",
       "<table border=\"1\" class=\"dataframe\">\n",
       "  <thead>\n",
       "    <tr style=\"text-align: right;\">\n",
       "      <th></th>\n",
       "      <th>Date1</th>\n",
       "      <th>Ativo</th>\n",
       "      <th>Date</th>\n",
       "      <th>Shift</th>\n",
       "      <th>SKUs</th>\n",
       "      <th>Super Razao</th>\n",
       "      <th>Segundos</th>\n",
       "      <th>Minutes</th>\n",
       "      <th>Horas</th>\n",
       "    </tr>\n",
       "  </thead>\n",
       "  <tbody>\n",
       "    <tr>\n",
       "      <th>0</th>\n",
       "      <td>20180101</td>\n",
       "      <td>LINHA 01</td>\n",
       "      <td>01/01/2018</td>\n",
       "      <td>1</td>\n",
       "      <td>CHOCOLATE BRANCO 90G</td>\n",
       "      <td>Perda 2 - Feriados</td>\n",
       "      <td>28800</td>\n",
       "      <td>480.0</td>\n",
       "      <td>8.0</td>\n",
       "    </tr>\n",
       "    <tr>\n",
       "      <th>1</th>\n",
       "      <td>20180101</td>\n",
       "      <td>LINHA 01</td>\n",
       "      <td>01/01/2018</td>\n",
       "      <td>2</td>\n",
       "      <td>CHOCOLATE BRANCO 90G</td>\n",
       "      <td>Perda 2 - Feriados</td>\n",
       "      <td>28800</td>\n",
       "      <td>480.0</td>\n",
       "      <td>8.0</td>\n",
       "    </tr>\n",
       "  </tbody>\n",
       "</table>\n",
       "</div>"
      ],
      "text/plain": [
       "      Date1     Ativo         Date Shift                  SKUs  \\\n",
       "0  20180101  LINHA 01  01/01/2018      1  CHOCOLATE BRANCO 90G   \n",
       "1  20180101  LINHA 01  01/01/2018      2  CHOCOLATE BRANCO 90G   \n",
       "\n",
       "          Super Razao  Segundos  Minutes  Horas  \n",
       "0  Perda 2 - Feriados     28800    480.0    8.0  \n",
       "1  Perda 2 - Feriados     28800    480.0    8.0  "
      ]
     },
     "execution_count": 19,
     "metadata": {},
     "output_type": "execute_result"
    }
   ],
   "source": [
    "Super_Reason_Shift.head(2)"
   ]
  },
  {
   "cell_type": "code",
   "execution_count": 20,
   "metadata": {
    "ExecuteTime": {
     "end_time": "2021-04-24T03:21:22.269046Z",
     "start_time": "2021-04-24T03:21:22.203219Z"
    }
   },
   "outputs": [],
   "source": [
    "Super_Reason_Day = Super_Reason_Shift.groupby(by=['Date1','Ativo','Date','SKUs','Super Razao'], as_index=False).sum()"
   ]
  },
  {
   "cell_type": "code",
   "execution_count": 21,
   "metadata": {
    "ExecuteTime": {
     "end_time": "2021-04-24T03:21:25.448362Z",
     "start_time": "2021-04-24T03:21:25.423426Z"
    },
    "scrolled": false
   },
   "outputs": [
    {
     "data": {
      "text/html": [
       "<div>\n",
       "<style scoped>\n",
       "    .dataframe tbody tr th:only-of-type {\n",
       "        vertical-align: middle;\n",
       "    }\n",
       "\n",
       "    .dataframe tbody tr th {\n",
       "        vertical-align: top;\n",
       "    }\n",
       "\n",
       "    .dataframe thead th {\n",
       "        text-align: right;\n",
       "    }\n",
       "</style>\n",
       "<table border=\"1\" class=\"dataframe\">\n",
       "  <thead>\n",
       "    <tr style=\"text-align: right;\">\n",
       "      <th></th>\n",
       "      <th>Date1</th>\n",
       "      <th>Ativo</th>\n",
       "      <th>Date</th>\n",
       "      <th>SKUs</th>\n",
       "      <th>Super Razao</th>\n",
       "      <th>Segundos</th>\n",
       "      <th>Minutes</th>\n",
       "      <th>Horas</th>\n",
       "    </tr>\n",
       "  </thead>\n",
       "  <tbody>\n",
       "    <tr>\n",
       "      <th>0</th>\n",
       "      <td>20180101</td>\n",
       "      <td>LINHA 01</td>\n",
       "      <td>01/01/2018</td>\n",
       "      <td>CHOCOLATE BRANCO 90G</td>\n",
       "      <td>Perda 2 - Feriados</td>\n",
       "      <td>86400</td>\n",
       "      <td>1440.0</td>\n",
       "      <td>24.0</td>\n",
       "    </tr>\n",
       "    <tr>\n",
       "      <th>1</th>\n",
       "      <td>20180101</td>\n",
       "      <td>LINHA 02</td>\n",
       "      <td>01/01/2018</td>\n",
       "      <td>SEM PLANEJAMENTO</td>\n",
       "      <td>Perda 2 - Feriados</td>\n",
       "      <td>86400</td>\n",
       "      <td>1440.0</td>\n",
       "      <td>24.0</td>\n",
       "    </tr>\n",
       "  </tbody>\n",
       "</table>\n",
       "</div>"
      ],
      "text/plain": [
       "      Date1     Ativo         Date                  SKUs         Super Razao  \\\n",
       "0  20180101  LINHA 01  01/01/2018   CHOCOLATE BRANCO 90G  Perda 2 - Feriados   \n",
       "1  20180101  LINHA 02  01/01/2018       SEM PLANEJAMENTO  Perda 2 - Feriados   \n",
       "\n",
       "   Segundos  Minutes  Horas  \n",
       "0     86400   1440.0   24.0  \n",
       "1     86400   1440.0   24.0  "
      ]
     },
     "execution_count": 21,
     "metadata": {},
     "output_type": "execute_result"
    }
   ],
   "source": [
    "Super_Reason_Day.head(2)"
   ]
  },
  {
   "cell_type": "code",
   "execution_count": 23,
   "metadata": {
    "ExecuteTime": {
     "end_time": "2021-04-24T03:24:19.622126Z",
     "start_time": "2021-04-24T03:24:19.614150Z"
    }
   },
   "outputs": [],
   "source": [
    "#Abaixo executa-se um FOR LOPPING para atribuir soma para as perdas tipo 1 ao 7, pois estão são desconsideradas do tempo util diário para o devido computo da hora válida disponível para o calculo da eficiência."
   ]
  },
  {
   "cell_type": "code",
   "execution_count": 24,
   "metadata": {
    "ExecuteTime": {
     "end_time": "2021-04-24T03:24:23.353582Z",
     "start_time": "2021-04-24T03:24:23.339585Z"
    }
   },
   "outputs": [],
   "source": [
    "lista_perdas = ['Perda 1 - Perdas legais','Perda 2 - Feriados','Perda 4 - Tempo Oscioso','Perda 5 - Parada Planejada','Perda 6 - Falta Utilidades','Perda 7 - Testes e Inovação','SEM PREENCHIMENTO'] "
   ]
  },
  {
   "cell_type": "code",
   "execution_count": 25,
   "metadata": {
    "ExecuteTime": {
     "end_time": "2021-04-24T03:24:25.078564Z",
     "start_time": "2021-04-24T03:24:25.031696Z"
    }
   },
   "outputs": [],
   "source": [
    "lista_valores = []\n",
    "counter = 0\n",
    "for i in Super_Reason_Day['Super Razao']:\n",
    "    if i in lista_perdas:\n",
    "        lista_valores.append(Super_Reason_Day['Minutes'][counter])\n",
    "        counter = counter+1\n",
    "    else:\n",
    "        lista_valores.append(0)\n",
    "        counter = counter+1\n",
    "        "
   ]
  },
  {
   "cell_type": "code",
   "execution_count": 26,
   "metadata": {
    "ExecuteTime": {
     "end_time": "2021-04-24T03:24:30.330964Z",
     "start_time": "2021-04-24T03:24:30.305028Z"
    },
    "scrolled": true
   },
   "outputs": [],
   "source": [
    "Super_Reason_Day['SomaPerdas1_7'] = pd.DataFrame(lista_valores)"
   ]
  },
  {
   "cell_type": "code",
   "execution_count": 27,
   "metadata": {
    "ExecuteTime": {
     "end_time": "2021-04-24T03:24:37.286902Z",
     "start_time": "2021-04-24T03:24:37.232050Z"
    },
    "scrolled": false
   },
   "outputs": [
    {
     "data": {
      "text/html": [
       "<div>\n",
       "<style scoped>\n",
       "    .dataframe tbody tr th:only-of-type {\n",
       "        vertical-align: middle;\n",
       "    }\n",
       "\n",
       "    .dataframe tbody tr th {\n",
       "        vertical-align: top;\n",
       "    }\n",
       "\n",
       "    .dataframe thead th {\n",
       "        text-align: right;\n",
       "    }\n",
       "</style>\n",
       "<table border=\"1\" class=\"dataframe\">\n",
       "  <thead>\n",
       "    <tr style=\"text-align: right;\">\n",
       "      <th></th>\n",
       "      <th>Ativo</th>\n",
       "      <th>Date1</th>\n",
       "      <th>Date</th>\n",
       "      <th>Segundos</th>\n",
       "      <th>Minutes</th>\n",
       "      <th>Horas</th>\n",
       "      <th>SomaPerdas1_7</th>\n",
       "    </tr>\n",
       "  </thead>\n",
       "  <tbody>\n",
       "    <tr>\n",
       "      <th>0</th>\n",
       "      <td>LINHA 01</td>\n",
       "      <td>20180101</td>\n",
       "      <td>01/01/2018</td>\n",
       "      <td>86400</td>\n",
       "      <td>1440.0</td>\n",
       "      <td>24.0</td>\n",
       "      <td>1440.0</td>\n",
       "    </tr>\n",
       "    <tr>\n",
       "      <th>1</th>\n",
       "      <td>LINHA 01</td>\n",
       "      <td>20180102</td>\n",
       "      <td>02/01/2018</td>\n",
       "      <td>86400</td>\n",
       "      <td>1440.0</td>\n",
       "      <td>24.0</td>\n",
       "      <td>1440.0</td>\n",
       "    </tr>\n",
       "    <tr>\n",
       "      <th>2</th>\n",
       "      <td>LINHA 01</td>\n",
       "      <td>20180103</td>\n",
       "      <td>03/01/2018</td>\n",
       "      <td>64800</td>\n",
       "      <td>1080.0</td>\n",
       "      <td>18.0</td>\n",
       "      <td>480.0</td>\n",
       "    </tr>\n",
       "    <tr>\n",
       "      <th>3</th>\n",
       "      <td>LINHA 01</td>\n",
       "      <td>20180104</td>\n",
       "      <td>04/01/2018</td>\n",
       "      <td>86400</td>\n",
       "      <td>1440.0</td>\n",
       "      <td>24.0</td>\n",
       "      <td>0.0</td>\n",
       "    </tr>\n",
       "    <tr>\n",
       "      <th>4</th>\n",
       "      <td>LINHA 01</td>\n",
       "      <td>20180105</td>\n",
       "      <td>05/01/2018</td>\n",
       "      <td>86400</td>\n",
       "      <td>1440.0</td>\n",
       "      <td>24.0</td>\n",
       "      <td>4.0</td>\n",
       "    </tr>\n",
       "    <tr>\n",
       "      <th>...</th>\n",
       "      <td>...</td>\n",
       "      <td>...</td>\n",
       "      <td>...</td>\n",
       "      <td>...</td>\n",
       "      <td>...</td>\n",
       "      <td>...</td>\n",
       "      <td>...</td>\n",
       "    </tr>\n",
       "    <tr>\n",
       "      <th>3538</th>\n",
       "      <td>LINHA 03</td>\n",
       "      <td>20210322</td>\n",
       "      <td>22/03/2021</td>\n",
       "      <td>86400</td>\n",
       "      <td>1440.0</td>\n",
       "      <td>24.0</td>\n",
       "      <td>0.0</td>\n",
       "    </tr>\n",
       "    <tr>\n",
       "      <th>3539</th>\n",
       "      <td>LINHA 03</td>\n",
       "      <td>20210323</td>\n",
       "      <td>23/03/2021</td>\n",
       "      <td>86400</td>\n",
       "      <td>1440.0</td>\n",
       "      <td>24.0</td>\n",
       "      <td>0.0</td>\n",
       "    </tr>\n",
       "    <tr>\n",
       "      <th>3540</th>\n",
       "      <td>LINHA 03</td>\n",
       "      <td>20210324</td>\n",
       "      <td>24/03/2021</td>\n",
       "      <td>86400</td>\n",
       "      <td>1440.0</td>\n",
       "      <td>24.0</td>\n",
       "      <td>64.0</td>\n",
       "    </tr>\n",
       "    <tr>\n",
       "      <th>3541</th>\n",
       "      <td>LINHA 03</td>\n",
       "      <td>20210325</td>\n",
       "      <td>25/03/2021</td>\n",
       "      <td>86400</td>\n",
       "      <td>1440.0</td>\n",
       "      <td>24.0</td>\n",
       "      <td>0.0</td>\n",
       "    </tr>\n",
       "    <tr>\n",
       "      <th>3542</th>\n",
       "      <td>LINHA 03</td>\n",
       "      <td>20210326</td>\n",
       "      <td>26/03/2021</td>\n",
       "      <td>50400</td>\n",
       "      <td>840.0</td>\n",
       "      <td>14.0</td>\n",
       "      <td>0.0</td>\n",
       "    </tr>\n",
       "  </tbody>\n",
       "</table>\n",
       "<p>3543 rows × 7 columns</p>\n",
       "</div>"
      ],
      "text/plain": [
       "         Ativo     Date1         Date  Segundos  Minutes  Horas  SomaPerdas1_7\n",
       "0     LINHA 01  20180101  01/01/2018      86400   1440.0   24.0         1440.0\n",
       "1     LINHA 01  20180102  02/01/2018      86400   1440.0   24.0         1440.0\n",
       "2     LINHA 01  20180103  03/01/2018      64800   1080.0   18.0          480.0\n",
       "3     LINHA 01  20180104  04/01/2018      86400   1440.0   24.0            0.0\n",
       "4     LINHA 01  20180105  05/01/2018      86400   1440.0   24.0            4.0\n",
       "...        ...       ...          ...       ...      ...    ...            ...\n",
       "3538  LINHA 03  20210322  22/03/2021      86400   1440.0   24.0            0.0\n",
       "3539  LINHA 03  20210323  23/03/2021      86400   1440.0   24.0            0.0\n",
       "3540  LINHA 03  20210324  24/03/2021      86400   1440.0   24.0           64.0\n",
       "3541  LINHA 03  20210325  25/03/2021      86400   1440.0   24.0            0.0\n",
       "3542  LINHA 03  20210326  26/03/2021      50400    840.0   14.0            0.0\n",
       "\n",
       "[3543 rows x 7 columns]"
      ]
     },
     "execution_count": 27,
     "metadata": {},
     "output_type": "execute_result"
    }
   ],
   "source": [
    "Produtividade = Super_Reason_Day.groupby(['Ativo','Date1','Date'],as_index = False).sum()\n",
    "Produtividade"
   ]
  },
  {
   "cell_type": "code",
   "execution_count": 30,
   "metadata": {
    "ExecuteTime": {
     "end_time": "2021-04-24T03:26:48.316977Z",
     "start_time": "2021-04-24T03:26:48.312029Z"
    }
   },
   "outputs": [],
   "source": [
    "Produtividade['HoraValida'] = 1440 - Produtividade['SomaPerdas1_7']\n",
    "# encontrar os valores das horas válidas a serem usadas no denominador do calculo de eficiência"
   ]
  },
  {
   "cell_type": "code",
   "execution_count": 254,
   "metadata": {
    "ExecuteTime": {
     "end_time": "2021-04-15T23:35:27.129391Z",
     "start_time": "2021-04-15T23:35:27.100468Z"
    }
   },
   "outputs": [
    {
     "data": {
      "text/plain": [
       "[0.0,\n",
       " 0.0,\n",
       " 960.0,\n",
       " 1440.0,\n",
       " 1436.0,\n",
       " 1440.0,\n",
       " 1432.0,\n",
       " 1411.0,\n",
       " 1401.0,\n",
       " 1377.0,\n",
       " 1440.0,\n",
       " 1431.0,\n",
       " 1424.0,\n",
       " 1440.0,\n",
       " 1440.0,\n",
       " 1440.0,\n",
       " 1401.0,\n",
       " 1419.0,\n",
       " 1440.0,\n",
       " 1440.0,\n",
       " 1440.0,\n",
       " 1440.0,\n",
       " 1440.0,\n",
       " 674.0,\n",
       " 1440.0,\n",
       " 1440.0,\n",
       " 1440.0,\n",
       " 1440.0,\n",
       " 1440.0,\n",
       " 346.0,\n",
       " 644.0,\n",
       " 605.0,\n",
       " 1397.0,\n",
       " 1408.0,\n",
       " 1435.0,\n",
       " 1440.0,\n",
       " 1440.0,\n",
       " 1416.0,\n",
       " 1440.0,\n",
       " 1440.0,\n",
       " 1440.0,\n",
       " 1440.0,\n",
       " 1440.0,\n",
       " 1440.0,\n",
       " 1440.0,\n",
       " 1440.0,\n",
       " 1440.0,\n",
       " 1440.0,\n",
       " 1405.0,\n",
       " 696.0,\n",
       " 1224.0,\n",
       " 1427.0,\n",
       " 1440.0,\n",
       " 1440.0,\n",
       " 1430.0,\n",
       " 1440.0,\n",
       " 1426.0,\n",
       " 1440.0,\n",
       " 1440.0,\n",
       " 1440.0,\n",
       " 1440.0,\n",
       " 1440.0,\n",
       " 1440.0,\n",
       " 1440.0,\n",
       " 1440.0,\n",
       " 1440.0,\n",
       " 1420.0,\n",
       " 1440.0,\n",
       " 1438.0,\n",
       " 1423.0,\n",
       " 1440.0,\n",
       " 1403.0,\n",
       " 1440.0,\n",
       " 1440.0,\n",
       " 1440.0,\n",
       " 1440.0,\n",
       " 1440.0,\n",
       " 1440.0,\n",
       " 1440.0,\n",
       " 1440.0,\n",
       " 1440.0,\n",
       " 1440.0,\n",
       " 1440.0,\n",
       " 1440.0,\n",
       " 1420.0,\n",
       " 1412.0,\n",
       " 1387.0,\n",
       " 1421.0,\n",
       " 1440.0,\n",
       " 1440.0,\n",
       " 1403.0,\n",
       " 794.0,\n",
       " 735.9999999999999,\n",
       " 1290.0,\n",
       " 1059.0,\n",
       " 1440.0,\n",
       " 1440.0,\n",
       " 1433.0,\n",
       " 1440.0,\n",
       " 575.0,\n",
       " 1440.0,\n",
       " 1180.0,\n",
       " 644.0,\n",
       " 1440.0,\n",
       " 1386.0,\n",
       " 1420.0,\n",
       " 1440.0,\n",
       " 1420.0,\n",
       " 1307.0,\n",
       " 1360.0,\n",
       " 1440.0,\n",
       " 1440.0,\n",
       " 1411.0,\n",
       " 1420.0,\n",
       " 1440.0,\n",
       " 1440.0,\n",
       " 1440.0,\n",
       " 1440.0,\n",
       " 1440.0,\n",
       " 1440.0,\n",
       " 1440.0,\n",
       " 920.0,\n",
       " 1228.0,\n",
       " 1440.0,\n",
       " 1440.0,\n",
       " 1440.0,\n",
       " 1440.0,\n",
       " 1440.0,\n",
       " 1440.0,\n",
       " 1440.0,\n",
       " 1440.0,\n",
       " 1431.0,\n",
       " 1440.0,\n",
       " 1440.0,\n",
       " -55.0,\n",
       " 0.0,\n",
       " 810.0,\n",
       " 1440.0,\n",
       " 1440.0,\n",
       " 1440.0,\n",
       " 1440.0,\n",
       " 1434.0,\n",
       " 1440.0,\n",
       " 1440.0,\n",
       " 1420.0,\n",
       " 1440.0,\n",
       " 865.0,\n",
       " 0.0,\n",
       " 0.0,\n",
       " 0.0,\n",
       " 0.0,\n",
       " 0.0,\n",
       " 0.0,\n",
       " 0.0,\n",
       " 0.0,\n",
       " 720.0,\n",
       " 1404.0,\n",
       " 1440.0,\n",
       " 1440.0,\n",
       " 1440.0,\n",
       " 1440.0,\n",
       " 1320.0,\n",
       " 1440.0,\n",
       " 1440.0,\n",
       " 1440.0,\n",
       " 1430.0,\n",
       " 1440.0,\n",
       " 1260.0,\n",
       " 1440.0,\n",
       " 724.0,\n",
       " 1425.0,\n",
       " 1440.0,\n",
       " 1260.0,\n",
       " 1440.0,\n",
       " 1440.0,\n",
       " 1440.0,\n",
       " 1440.0,\n",
       " 863.0,\n",
       " 0.0,\n",
       " 0.0,\n",
       " 480.0,\n",
       " 0.0,\n",
       " 0.0,\n",
       " 720.0,\n",
       " 1440.0,\n",
       " 1440.0,\n",
       " 1270.0,\n",
       " 1440.0,\n",
       " 1435.0,\n",
       " 1440.0,\n",
       " 1440.0,\n",
       " 1440.0,\n",
       " 1440.0,\n",
       " 1440.0,\n",
       " 1440.0,\n",
       " 1440.0,\n",
       " 1440.0,\n",
       " 1440.0,\n",
       " 1440.0,\n",
       " 1440.0,\n",
       " 1440.0,\n",
       " 1440.0,\n",
       " 1429.0,\n",
       " -360.0,\n",
       " 0.0,\n",
       " 0.0,\n",
       " 0.0,\n",
       " 0.0,\n",
       " 0.0,\n",
       " 0.0,\n",
       " 0.0,\n",
       " 0.0,\n",
       " 0.0,\n",
       " 1440.0,\n",
       " 1440.0,\n",
       " 1424.0,\n",
       " 1440.0,\n",
       " 1440.0,\n",
       " 1440.0,\n",
       " 1412.0,\n",
       " 1440.0,\n",
       " 1430.0,\n",
       " 1440.0,\n",
       " 1440.0,\n",
       " 1440.0,\n",
       " 1410.0,\n",
       " 1320.0,\n",
       " 569.0,\n",
       " 1046.0,\n",
       " 1420.0,\n",
       " 1260.0,\n",
       " 1269.0,\n",
       " 1440.0,\n",
       " 1399.0,\n",
       " 1432.0,\n",
       " 1434.0,\n",
       " 982.0,\n",
       " 0.0,\n",
       " 1436.0,\n",
       " 831.0,\n",
       " 976.0,\n",
       " 1089.0,\n",
       " 161.0,\n",
       " 0.0,\n",
       " 1020.0,\n",
       " 1440.0,\n",
       " 1440.0,\n",
       " 1440.0,\n",
       " 1440.0,\n",
       " 1440.0,\n",
       " 1440.0,\n",
       " 1440.0,\n",
       " 1430.0,\n",
       " 749.0,\n",
       " 1385.0,\n",
       " 1440.0,\n",
       " 1440.0,\n",
       " 1432.0,\n",
       " 818.0,\n",
       " 1339.0,\n",
       " 1440.0,\n",
       " 1440.0,\n",
       " 1430.0,\n",
       " 1440.0,\n",
       " 1430.0,\n",
       " 1427.0,\n",
       " 364.0,\n",
       " 1368.0,\n",
       " 1436.5,\n",
       " 1440.0,\n",
       " 1433.0,\n",
       " 1436.0,\n",
       " 1440.0,\n",
       " 1440.0,\n",
       " 1440.0,\n",
       " 1440.0,\n",
       " 1187.0,\n",
       " 120.0,\n",
       " 1440.0,\n",
       " 1440.0,\n",
       " 1440.0,\n",
       " 1440.0,\n",
       " 1440.0,\n",
       " 1429.0,\n",
       " 1422.0,\n",
       " 1440.0,\n",
       " 1440.0,\n",
       " 1440.0,\n",
       " 1440.0,\n",
       " 1415.0,\n",
       " 1440.0,\n",
       " 1440.0,\n",
       " 1440.0,\n",
       " 1427.0,\n",
       " 1440.0,\n",
       " 1440.0,\n",
       " 1440.0,\n",
       " 1440.0,\n",
       " 1440.0,\n",
       " 1440.0,\n",
       " 1440.0,\n",
       " 1440.0,\n",
       " 1289.0,\n",
       " 1170.0,\n",
       " 1440.0,\n",
       " 1440.0,\n",
       " 910.0,\n",
       " 1430.0,\n",
       " 1440.0,\n",
       " 1440.0,\n",
       " 1440.0,\n",
       " 1440.0,\n",
       " 1440.0,\n",
       " 1440.0,\n",
       " 1440.0,\n",
       " 1440.0,\n",
       " 1440.0,\n",
       " 1427.0,\n",
       " 1438.0,\n",
       " 1440.0,\n",
       " 1436.0,\n",
       " 1436.0,\n",
       " 1440.0,\n",
       " 1440.0,\n",
       " 1394.5,\n",
       " 1440.0,\n",
       " 1440.0,\n",
       " 1440.0,\n",
       " 343.0,\n",
       " 0.0,\n",
       " 614.0,\n",
       " 621.0,\n",
       " 1440.0,\n",
       " 1440.0,\n",
       " 1440.0,\n",
       " 1394.0,\n",
       " 950.0,\n",
       " 1370.0,\n",
       " 1440.0,\n",
       " 1440.0,\n",
       " 1285.0,\n",
       " 1394.0,\n",
       " 1405.0,\n",
       " 1432.0,\n",
       " 720.0,\n",
       " 1440.0,\n",
       " 1440.0,\n",
       " 1440.0,\n",
       " 1429.0,\n",
       " 1440.0,\n",
       " 1440.0,\n",
       " 1440.0,\n",
       " 1436.0,\n",
       " 1424.0,\n",
       " 1436.0,\n",
       " 1428.0,\n",
       " 960.0,\n",
       " 0.0,\n",
       " 0.0,\n",
       " 0.0,\n",
       " 0.0,\n",
       " 0.0,\n",
       " 0.0,\n",
       " 0.0,\n",
       " 480.0,\n",
       " 0.0,\n",
       " 0.0,\n",
       " 0.0,\n",
       " 0.0,\n",
       " 0.0,\n",
       " 0.0,\n",
       " 0.0,\n",
       " 180.0,\n",
       " 1282.0,\n",
       " 1440.0,\n",
       " 1440.0,\n",
       " 1440.0,\n",
       " 1440.0,\n",
       " 1440.0,\n",
       " 1440.0,\n",
       " 1440.0,\n",
       " 1440.0,\n",
       " 1440.0,\n",
       " 1440.0,\n",
       " 1440.0,\n",
       " 1440.0,\n",
       " 1440.0,\n",
       " 1440.0,\n",
       " 1440.0,\n",
       " 1440.0,\n",
       " 1440.0,\n",
       " 1440.0,\n",
       " 1440.0,\n",
       " 1440.0,\n",
       " 1440.0,\n",
       " 1440.0,\n",
       " 1440.0,\n",
       " 1440.0,\n",
       " 1440.0,\n",
       " 685.0,\n",
       " 1440.0,\n",
       " 1440.0,\n",
       " 951.0000000000001,\n",
       " 631.0,\n",
       " 1290.0,\n",
       " 1440.0,\n",
       " 1440.0,\n",
       " 1440.0,\n",
       " 1440.0,\n",
       " 1440.0,\n",
       " 1440.0,\n",
       " 1440.0,\n",
       " 1040.0,\n",
       " 1440.0,\n",
       " 1440.0,\n",
       " 1440.0,\n",
       " 1440.0,\n",
       " 1440.0,\n",
       " 1440.0,\n",
       " 1440.0,\n",
       " 1230.0,\n",
       " 1440.0,\n",
       " 975.0,\n",
       " 1357.0,\n",
       " 1440.0,\n",
       " 1440.0,\n",
       " 1440.0,\n",
       " 1440.0,\n",
       " 1440.0,\n",
       " 1440.0,\n",
       " 1440.0,\n",
       " 1440.0,\n",
       " 1430.0,\n",
       " 1440.0,\n",
       " 1440.0,\n",
       " 1440.0,\n",
       " 1440.0,\n",
       " 1440.0,\n",
       " 1440.0,\n",
       " 1430.0,\n",
       " 1440.0,\n",
       " 978.0000000000001,\n",
       " 780.0,\n",
       " 1181.0,\n",
       " 1440.0,\n",
       " 1440.0,\n",
       " 1440.0,\n",
       " 1440.0,\n",
       " 1440.0,\n",
       " 1440.0,\n",
       " 1440.0,\n",
       " 1440.0,\n",
       " 1440.0,\n",
       " 1440.0,\n",
       " 1320.0,\n",
       " 360.0,\n",
       " 1320.0,\n",
       " 1440.0,\n",
       " 1440.0,\n",
       " 1440.0,\n",
       " 1440.0,\n",
       " 1440.0,\n",
       " 1440.0,\n",
       " 1440.0,\n",
       " 1440.0,\n",
       " 1440.0,\n",
       " 1440.0,\n",
       " 1440.0,\n",
       " 1440.0,\n",
       " 1440.0,\n",
       " 1440.0,\n",
       " 1440.0,\n",
       " 1440.0,\n",
       " 1440.0,\n",
       " 1440.0,\n",
       " 1440.0,\n",
       " 1440.0,\n",
       " 1440.0,\n",
       " 1440.0,\n",
       " 1440.0,\n",
       " 1440.0,\n",
       " 1440.0,\n",
       " 1440.0,\n",
       " 1440.0,\n",
       " 1020.0,\n",
       " 1440.0,\n",
       " 1440.0,\n",
       " 1440.0,\n",
       " 1440.0,\n",
       " 1440.0,\n",
       " 1440.0,\n",
       " 1440.0,\n",
       " 1415.0,\n",
       " 414.0,\n",
       " 1440.0,\n",
       " 1440.0,\n",
       " 941.0,\n",
       " 1323.0,\n",
       " 1440.0,\n",
       " 1440.0,\n",
       " 1440.0,\n",
       " 600.0,\n",
       " 1440.0,\n",
       " 720.0,\n",
       " 0.0,\n",
       " 0.0,\n",
       " 0.0,\n",
       " 0.0,\n",
       " 0.0,\n",
       " 0.0,\n",
       " 0.0,\n",
       " 0.0,\n",
       " 0.0,\n",
       " 0.0,\n",
       " 0.0,\n",
       " 120.0,\n",
       " 1320.0,\n",
       " 780.0,\n",
       " 822.0,\n",
       " 760.0,\n",
       " 701.0,\n",
       " 1106.0,\n",
       " 600.0,\n",
       " 1440.0,\n",
       " 1440.0,\n",
       " 148.0,\n",
       " 1409.0,\n",
       " 1300.0,\n",
       " 1234.0,\n",
       " 1320.0,\n",
       " 1200.0,\n",
       " 1232.0,\n",
       " 1260.0,\n",
       " 1342.0,\n",
       " 1320.0,\n",
       " 1440.0,\n",
       " 1440.0,\n",
       " 1440.0,\n",
       " 1390.0,\n",
       " 1260.0,\n",
       " 1437.0,\n",
       " -51.0,\n",
       " 0.0,\n",
       " 0.0,\n",
       " 0.0,\n",
       " 360.0,\n",
       " 1398.0,\n",
       " 1320.0,\n",
       " 1440.0,\n",
       " 1440.0,\n",
       " 1440.0,\n",
       " 1440.0,\n",
       " 1004.0,\n",
       " 1142.0,\n",
       " 1360.0,\n",
       " 568.0,\n",
       " 818.0,\n",
       " 899.0,\n",
       " 746.0,\n",
       " 1256.0,\n",
       " 1002.0,\n",
       " 980.0,\n",
       " 1440.0,\n",
       " 1380.0,\n",
       " 1404.0,\n",
       " 1380.0,\n",
       " 1440.0,\n",
       " 1330.0,\n",
       " 1212.0,\n",
       " 670.0,\n",
       " 0.0,\n",
       " 0.0,\n",
       " 0.0,\n",
       " 0.0,\n",
       " 0.0,\n",
       " 0.0,\n",
       " 0.0,\n",
       " 1004.0,\n",
       " 1412.0,\n",
       " 1440.0,\n",
       " 1401.6666666666667,\n",
       " 1202.0666666666666,\n",
       " 1440.0,\n",
       " 1282.0,\n",
       " 1326.8,\n",
       " 1390.0,\n",
       " 1422.1666666666667,\n",
       " 1440.0,\n",
       " 1367.0,\n",
       " 230.99999999999977,\n",
       " 859.0,\n",
       " -296.0,\n",
       " 647.0,\n",
       " 1356.8666666666666,\n",
       " 1440.0,\n",
       " 1020.0,\n",
       " 1260.0,\n",
       " 1290.0,\n",
       " 1364.75,\n",
       " 1350.0,\n",
       " 1380.0,\n",
       " 1440.0,\n",
       " 403.0,\n",
       " 1362.0,\n",
       " -280.0,\n",
       " 0.0,\n",
       " 0.0,\n",
       " 455.0,\n",
       " 1309.0,\n",
       " 1428.0,\n",
       " 1314.0,\n",
       " 1262.0,\n",
       " 1401.0,\n",
       " 1430.0,\n",
       " 1389.0,\n",
       " 1440.0,\n",
       " 1366.0,\n",
       " 1251.8,\n",
       " 1320.0,\n",
       " 1427.0,\n",
       " 1440.0,\n",
       " 1440.0,\n",
       " 1440.0,\n",
       " 1440.0,\n",
       " 1117.0,\n",
       " 508.0,\n",
       " 1053.85,\n",
       " 1380.0,\n",
       " 1328.5,\n",
       " 1308.6666666666667,\n",
       " 1262.0,\n",
       " 1440.0,\n",
       " 1419.0,\n",
       " -340.0,\n",
       " 0.0,\n",
       " 0.0,\n",
       " 0.0,\n",
       " 480.0,\n",
       " 1075.0,\n",
       " 1304.0,\n",
       " 1351.0,\n",
       " 1410.0,\n",
       " 1440.0,\n",
       " 1439.0,\n",
       " 1310.0,\n",
       " 1274.0,\n",
       " 1380.0,\n",
       " 480.0,\n",
       " 1353.0,\n",
       " 1001.0000000000001,\n",
       " 1380.0,\n",
       " 945.0,\n",
       " 1148.0,\n",
       " 1174.0666666666666,\n",
       " 1440.0,\n",
       " 780.0,\n",
       " 1309.0,\n",
       " 1320.8,\n",
       " 1320.0,\n",
       " 1186.0,\n",
       " 1300.0,\n",
       " 1440.0,\n",
       " 1440.0,\n",
       " 1380.0,\n",
       " 1376.0,\n",
       " 1440.0,\n",
       " 1440.0,\n",
       " 876.0,\n",
       " 638.0,\n",
       " 1262.0,\n",
       " 1440.0,\n",
       " 1380.0,\n",
       " 1213.0,\n",
       " 1299.0,\n",
       " 1338.0,\n",
       " 1440.0,\n",
       " 1296.0,\n",
       " 1350.0,\n",
       " 900.0,\n",
       " 958.0,\n",
       " 1440.0,\n",
       " 392.0,\n",
       " 1312.0,\n",
       " 1418.0,\n",
       " 1361.0,\n",
       " 1440.0,\n",
       " 1440.0,\n",
       " 1198.0,\n",
       " 1380.0,\n",
       " 1411.0,\n",
       " 1260.0,\n",
       " 1440.0,\n",
       " 1440.0,\n",
       " 1380.0,\n",
       " 1440.0,\n",
       " 1290.0,\n",
       " 1440.0,\n",
       " 1440.0,\n",
       " 1440.0,\n",
       " 1440.0,\n",
       " 1440.0,\n",
       " 1383.0,\n",
       " 1304.0,\n",
       " 1440.0,\n",
       " 1440.0,\n",
       " 1440.0,\n",
       " 1325.0,\n",
       " 1278.0,\n",
       " 1440.0,\n",
       " 1440.0,\n",
       " 1440.0,\n",
       " 1440.0,\n",
       " 1440.0,\n",
       " 956.0,\n",
       " 1433.0,\n",
       " 1440.0,\n",
       " 1440.0,\n",
       " 1440.0,\n",
       " 748.0,\n",
       " 0.0,\n",
       " 868.0,\n",
       " 1440.0,\n",
       " -240.0,\n",
       " 0.0,\n",
       " 0.0,\n",
       " 0.0,\n",
       " 0.0,\n",
       " 0.0,\n",
       " 0.0,\n",
       " 480.0,\n",
       " 0.0,\n",
       " 0.0,\n",
       " 0.0,\n",
       " 0.0,\n",
       " 0.0,\n",
       " 0.0,\n",
       " 240.0,\n",
       " 944.0,\n",
       " 1010.3333333333334,\n",
       " 1440.0,\n",
       " 1440.0,\n",
       " 1380.0,\n",
       " 1440.0,\n",
       " 1250.0,\n",
       " 1440.0,\n",
       " 739.0,\n",
       " 1440.0,\n",
       " 1440.0,\n",
       " 1041.0,\n",
       " 1416.0,\n",
       " 451.0000000000002,\n",
       " 1241.0,\n",
       " 1134.0,\n",
       " 1440.0,\n",
       " 1440.0,\n",
       " 1440.0,\n",
       " 1440.0,\n",
       " 1440.0,\n",
       " 1427.0,\n",
       " 1296.0,\n",
       " 1440.0,\n",
       " 1384.0,\n",
       " 1403.3333333333333,\n",
       " 1279.0,\n",
       " 1295.0,\n",
       " 365.0,\n",
       " 1301.0,\n",
       " 1380.0,\n",
       " 1440.0,\n",
       " 1440.0,\n",
       " 1131.0,\n",
       " 1295.0,\n",
       " 1265.0,\n",
       " 1410.0,\n",
       " 1380.0,\n",
       " 1305.0,\n",
       " 1440.0,\n",
       " 1080.0,\n",
       " 1440.0,\n",
       " 1434.0,\n",
       " 1380.0,\n",
       " 1380.0,\n",
       " 1380.0,\n",
       " 1440.0,\n",
       " 1380.0,\n",
       " 1440.0,\n",
       " 1380.0,\n",
       " 1440.0,\n",
       " 1440.0,\n",
       " 1380.0,\n",
       " 1440.0,\n",
       " 1440.0,\n",
       " 612.0,\n",
       " 1396.0,\n",
       " 1380.0,\n",
       " 1374.0,\n",
       " 1440.0,\n",
       " 1440.0,\n",
       " 1440.0,\n",
       " 1191.0,\n",
       " 1031.0,\n",
       " 1316.0,\n",
       " 1440.0,\n",
       " 1355.0,\n",
       " 1440.0,\n",
       " 1440.0,\n",
       " 744.0,\n",
       " 1197.0,\n",
       " 1231.0,\n",
       " 646.0,\n",
       " 1380.0,\n",
       " 750.0,\n",
       " 1362.0,\n",
       " 1428.0,\n",
       " 1440.0,\n",
       " 930.0,\n",
       " 1440.0,\n",
       " 1380.0,\n",
       " 1440.0,\n",
       " 1440.0,\n",
       " 1440.0,\n",
       " 921.3333333333333,\n",
       " 842.5333333333333,\n",
       " 1440.0,\n",
       " 1261.0,\n",
       " 1380.0,\n",
       " 420.0,\n",
       " 1080.0,\n",
       " 1380.0,\n",
       " 1440.0,\n",
       " 1440.0,\n",
       " 1440.0,\n",
       " 1440.0,\n",
       " 1440.0,\n",
       " 1440.0,\n",
       " 1440.0,\n",
       " 1349.0,\n",
       " 1440.0,\n",
       " 1440.0,\n",
       " 1440.0,\n",
       " 1440.0,\n",
       " 1440.0,\n",
       " 1440.0,\n",
       " 1440.0,\n",
       " 1440.0,\n",
       " 1440.0,\n",
       " 1440.0,\n",
       " 1440.0,\n",
       " 1440.0,\n",
       " 1440.0,\n",
       " 1440.0,\n",
       " 1320.0,\n",
       " 1440.0,\n",
       " 1380.0,\n",
       " 1440.0,\n",
       " 1140.0,\n",
       " 1278.0,\n",
       " 1440.0,\n",
       " 1440.0,\n",
       " 1440.0,\n",
       " 1440.0,\n",
       " 1440.0,\n",
       " 718.0,\n",
       " 1348.0,\n",
       " 1320.0,\n",
       " 1440.0,\n",
       " 1440.0,\n",
       " 1396.0,\n",
       " 161.0,\n",
       " 1094.0,\n",
       " 1080.0,\n",
       " 1440.0,\n",
       " 1440.0,\n",
       " 1440.0,\n",
       " 1440.0,\n",
       " 1380.0,\n",
       " 915.0,\n",
       " 863.0,\n",
       " 1036.0,\n",
       " -122.0,\n",
       " 0.0,\n",
       " 360.0,\n",
       " 1214.0,\n",
       " 1394.0,\n",
       " 1440.0,\n",
       " 1390.0,\n",
       " 1402.0,\n",
       " 1290.0,\n",
       " 1260.0,\n",
       " 1380.0,\n",
       " 1440.0,\n",
       " 1440.0,\n",
       " 1440.0,\n",
       " 1440.0,\n",
       " 1440.0,\n",
       " 1440.0,\n",
       " 1107.0,\n",
       " 1110.0,\n",
       " 1328.0,\n",
       " 1440.0,\n",
       " 1440.0,\n",
       " 1440.0,\n",
       " 1340.0,\n",
       " 1363.0,\n",
       " 1380.0,\n",
       " 1200.0,\n",
       " 1440.0,\n",
       " 1440.0,\n",
       " 85.0,\n",
       " 0.0,\n",
       " 0.0,\n",
       " 480.0,\n",
       " 0.0,\n",
       " 1200.0,\n",
       " 1380.0,\n",
       " 1440.0,\n",
       " 1320.0,\n",
       " 1440.0,\n",
       " 1390.0,\n",
       " 1297.0,\n",
       " 1440.0,\n",
       " 1440.0,\n",
       " 1440.0,\n",
       " 1440.0,\n",
       " 1440.0,\n",
       " 1440.0,\n",
       " 1440.0,\n",
       " 1440.0,\n",
       " 1384.0,\n",
       " 1440.0,\n",
       " 1440.0,\n",
       " 1388.0,\n",
       " 1380.0,\n",
       " 1440.0,\n",
       " 1298.0,\n",
       " 1330.0,\n",
       " 1383.0,\n",
       " 1440.0,\n",
       " 1440.0,\n",
       " 1440.0,\n",
       " 1440.0,\n",
       " 1440.0,\n",
       " 1440.0,\n",
       " 1329.0,\n",
       " 1384.0,\n",
       " 1440.0,\n",
       " 329.0,\n",
       " 1290.0,\n",
       " 1386.0,\n",
       " 1440.0,\n",
       " 1440.0,\n",
       " 1440.0,\n",
       " 1440.0,\n",
       " 1440.0,\n",
       " 242.0,\n",
       " 360.0,\n",
       " 1440.0,\n",
       " 1440.0,\n",
       " 1440.0,\n",
       " 1440.0,\n",
       " 1440.0,\n",
       " 960.0,\n",
       " 1440.0,\n",
       " 1440.0,\n",
       " 1440.0,\n",
       " 1440.0,\n",
       " 1440.0,\n",
       " 1440.0,\n",
       " 1440.0,\n",
       " 1440.0,\n",
       " 1440.0,\n",
       " 1440.0,\n",
       " 1440.0,\n",
       " 1440.0,\n",
       " 1440.0,\n",
       " 1440.0,\n",
       " 1440.0,\n",
       " 1440.0,\n",
       " 1440.0,\n",
       " 1440.0,\n",
       " 1440.0,\n",
       " 1440.0,\n",
       " 1322.0,\n",
       " 196.0,\n",
       " 1440.0,\n",
       " 1440.0,\n",
       " 1440.0,\n",
       " 1440.0,\n",
       " 1440.0,\n",
       " 1440.0,\n",
       " 1440.0,\n",
       " 1440.0,\n",
       " 1440.0,\n",
       " 1440.0,\n",
       " 1440.0,\n",
       " 1440.0,\n",
       " 1440.0,\n",
       " 1440.0,\n",
       " 1440.0,\n",
       " 1440.0,\n",
       " ...]"
      ]
     },
     "execution_count": 254,
     "metadata": {},
     "output_type": "execute_result"
    }
   ],
   "source": [
    "list(Produtividade['HoraValida'])"
   ]
  },
  {
   "cell_type": "code",
   "execution_count": 31,
   "metadata": {
    "ExecuteTime": {
     "end_time": "2021-04-24T03:28:45.787358Z",
     "start_time": "2021-04-24T03:28:45.768409Z"
    }
   },
   "outputs": [],
   "source": [
    "def replace_negative (row):\n",
    "    '''Esta função atribui o valor zero para números negativos existentes em cada linha'''\n",
    "    if row >= 0:\n",
    "        return int(row)\n",
    "    else:\n",
    "        return 0"
   ]
  },
  {
   "cell_type": "code",
   "execution_count": 32,
   "metadata": {
    "ExecuteTime": {
     "end_time": "2021-04-24T03:28:47.032655Z",
     "start_time": "2021-04-24T03:28:47.019693Z"
    },
    "cell_style": "center"
   },
   "outputs": [],
   "source": [
    "Produtividade['HoraValida'] = Produtividade['HoraValida'].apply(replace_negative)\n",
    "# aplicando a função de substituir os valores negativos gerados na fórmula anterior para os casos onde erroneamente a tabela fora preenchida \n",
    "# com a somatória diária em minutos superior a 1440 minutos ... desta forma, foi atribuido o valor de 0."
   ]
  },
  {
   "cell_type": "code",
   "execution_count": 36,
   "metadata": {
    "ExecuteTime": {
     "end_time": "2021-04-24T03:30:46.561879Z",
     "start_time": "2021-04-24T03:30:46.518963Z"
    },
    "scrolled": true
   },
   "outputs": [
    {
     "data": {
      "text/html": [
       "<div>\n",
       "<style scoped>\n",
       "    .dataframe tbody tr th:only-of-type {\n",
       "        vertical-align: middle;\n",
       "    }\n",
       "\n",
       "    .dataframe tbody tr th {\n",
       "        vertical-align: top;\n",
       "    }\n",
       "\n",
       "    .dataframe thead th {\n",
       "        text-align: right;\n",
       "    }\n",
       "</style>\n",
       "<table border=\"1\" class=\"dataframe\">\n",
       "  <thead>\n",
       "    <tr style=\"text-align: right;\">\n",
       "      <th></th>\n",
       "      <th>Date1</th>\n",
       "      <th>Ativo</th>\n",
       "      <th>Date</th>\n",
       "      <th>SKUs</th>\n",
       "      <th>Super Razao</th>\n",
       "      <th>Segundos_x</th>\n",
       "      <th>Minutes_x</th>\n",
       "      <th>Horas_x</th>\n",
       "      <th>SomaPerdas1_7_x</th>\n",
       "      <th>Segundos_y</th>\n",
       "      <th>Minutes_y</th>\n",
       "      <th>Horas_y</th>\n",
       "      <th>SomaPerdas1_7_y</th>\n",
       "      <th>HoraValida</th>\n",
       "    </tr>\n",
       "  </thead>\n",
       "  <tbody>\n",
       "    <tr>\n",
       "      <th>0</th>\n",
       "      <td>20180101</td>\n",
       "      <td>LINHA 01</td>\n",
       "      <td>01/01/2018</td>\n",
       "      <td>CHOCOLATE BRANCO 90G</td>\n",
       "      <td>Perda 2 - Feriados</td>\n",
       "      <td>86400</td>\n",
       "      <td>1440.0</td>\n",
       "      <td>24.0</td>\n",
       "      <td>1440.0</td>\n",
       "      <td>86400</td>\n",
       "      <td>1440.0</td>\n",
       "      <td>24.0</td>\n",
       "      <td>1440.0</td>\n",
       "      <td>0</td>\n",
       "    </tr>\n",
       "    <tr>\n",
       "      <th>1</th>\n",
       "      <td>20180101</td>\n",
       "      <td>LINHA 02</td>\n",
       "      <td>01/01/2018</td>\n",
       "      <td>SEM PLANEJAMENTO</td>\n",
       "      <td>Perda 2 - Feriados</td>\n",
       "      <td>86400</td>\n",
       "      <td>1440.0</td>\n",
       "      <td>24.0</td>\n",
       "      <td>1440.0</td>\n",
       "      <td>86400</td>\n",
       "      <td>1440.0</td>\n",
       "      <td>24.0</td>\n",
       "      <td>1440.0</td>\n",
       "      <td>0</td>\n",
       "    </tr>\n",
       "  </tbody>\n",
       "</table>\n",
       "</div>"
      ],
      "text/plain": [
       "      Date1     Ativo         Date                  SKUs         Super Razao  \\\n",
       "0  20180101  LINHA 01  01/01/2018   CHOCOLATE BRANCO 90G  Perda 2 - Feriados   \n",
       "1  20180101  LINHA 02  01/01/2018       SEM PLANEJAMENTO  Perda 2 - Feriados   \n",
       "\n",
       "   Segundos_x  Minutes_x  Horas_x  SomaPerdas1_7_x  Segundos_y  Minutes_y  \\\n",
       "0       86400     1440.0     24.0           1440.0       86400     1440.0   \n",
       "1       86400     1440.0     24.0           1440.0       86400     1440.0   \n",
       "\n",
       "   Horas_y  SomaPerdas1_7_y  HoraValida  \n",
       "0     24.0           1440.0           0  \n",
       "1     24.0           1440.0           0  "
      ]
     },
     "execution_count": 36,
     "metadata": {},
     "output_type": "execute_result"
    }
   ],
   "source": [
    "df_Produtivity = pd.merge(Super_Reason_Day,Produtividade,how=\"left\",on=['Date1','Ativo','Date'])\n",
    "df_Produtivity.head(2)\n",
    "#Utilizado a função merge para unir os dois datasets criados, vinculando os dados de produtividade diária as respectivas linhas e SKU´s produzidos."
   ]
  },
  {
   "cell_type": "code",
   "execution_count": 37,
   "metadata": {
    "ExecuteTime": {
     "end_time": "2021-04-24T03:32:09.293213Z",
     "start_time": "2021-04-24T03:32:08.993955Z"
    }
   },
   "outputs": [
    {
     "data": {
      "text/html": [
       "<div>\n",
       "<style scoped>\n",
       "    .dataframe tbody tr th:only-of-type {\n",
       "        vertical-align: middle;\n",
       "    }\n",
       "\n",
       "    .dataframe tbody tr th {\n",
       "        vertical-align: top;\n",
       "    }\n",
       "\n",
       "    .dataframe thead th {\n",
       "        text-align: right;\n",
       "    }\n",
       "</style>\n",
       "<table border=\"1\" class=\"dataframe\">\n",
       "  <thead>\n",
       "    <tr style=\"text-align: right;\">\n",
       "      <th></th>\n",
       "      <th>Date1</th>\n",
       "      <th>Ativo</th>\n",
       "      <th>Date</th>\n",
       "      <th>SKUs</th>\n",
       "      <th>Super Razao</th>\n",
       "      <th>Segundos_x</th>\n",
       "      <th>Minutes_x</th>\n",
       "      <th>Horas_x</th>\n",
       "      <th>SomaPerdas1_7_x</th>\n",
       "      <th>Segundos_y</th>\n",
       "      <th>Minutes_y</th>\n",
       "      <th>Horas_y</th>\n",
       "      <th>SomaPerdas1_7_y</th>\n",
       "      <th>HoraValida</th>\n",
       "      <th>%</th>\n",
       "    </tr>\n",
       "  </thead>\n",
       "  <tbody>\n",
       "    <tr>\n",
       "      <th>0</th>\n",
       "      <td>20180101</td>\n",
       "      <td>LINHA 01</td>\n",
       "      <td>01/01/2018</td>\n",
       "      <td>CHOCOLATE BRANCO 90G</td>\n",
       "      <td>Perda 2 - Feriados</td>\n",
       "      <td>86400</td>\n",
       "      <td>1440.0</td>\n",
       "      <td>24.0</td>\n",
       "      <td>1440.0</td>\n",
       "      <td>86400</td>\n",
       "      <td>1440.0</td>\n",
       "      <td>24.0</td>\n",
       "      <td>1440.0</td>\n",
       "      <td>0</td>\n",
       "      <td>inf</td>\n",
       "    </tr>\n",
       "    <tr>\n",
       "      <th>1</th>\n",
       "      <td>20180101</td>\n",
       "      <td>LINHA 02</td>\n",
       "      <td>01/01/2018</td>\n",
       "      <td>SEM PLANEJAMENTO</td>\n",
       "      <td>Perda 2 - Feriados</td>\n",
       "      <td>86400</td>\n",
       "      <td>1440.0</td>\n",
       "      <td>24.0</td>\n",
       "      <td>1440.0</td>\n",
       "      <td>86400</td>\n",
       "      <td>1440.0</td>\n",
       "      <td>24.0</td>\n",
       "      <td>1440.0</td>\n",
       "      <td>0</td>\n",
       "      <td>inf</td>\n",
       "    </tr>\n",
       "  </tbody>\n",
       "</table>\n",
       "</div>"
      ],
      "text/plain": [
       "      Date1     Ativo         Date                  SKUs         Super Razao  \\\n",
       "0  20180101  LINHA 01  01/01/2018   CHOCOLATE BRANCO 90G  Perda 2 - Feriados   \n",
       "1  20180101  LINHA 02  01/01/2018       SEM PLANEJAMENTO  Perda 2 - Feriados   \n",
       "\n",
       "   Segundos_x  Minutes_x  Horas_x  SomaPerdas1_7_x  Segundos_y  Minutes_y  \\\n",
       "0       86400     1440.0     24.0           1440.0       86400     1440.0   \n",
       "1       86400     1440.0     24.0           1440.0       86400     1440.0   \n",
       "\n",
       "   Horas_y  SomaPerdas1_7_y  HoraValida    %  \n",
       "0     24.0           1440.0           0  inf  \n",
       "1     24.0           1440.0           0  inf  "
      ]
     },
     "execution_count": 37,
     "metadata": {},
     "output_type": "execute_result"
    }
   ],
   "source": [
    "df_Produtivity['%'] = df_Produtivity['Minutes_x'] / df_Produtivity['HoraValida']\n",
    "df_Produtivity.head(2)\n",
    "#Criação de nova coluna para demonstrar o percentual relacionado a cada perda."
   ]
  },
  {
   "cell_type": "code",
   "execution_count": 38,
   "metadata": {
    "ExecuteTime": {
     "end_time": "2021-04-24T03:32:28.663021Z",
     "start_time": "2021-04-24T03:32:28.646067Z"
    }
   },
   "outputs": [],
   "source": [
    "Super_Reason_Day_TempoEfetivoProducao = df_Produtivity.loc[(df_Produtivity['Super Razao'] == 'Tempo Efetivo Producao')]"
   ]
  },
  {
   "cell_type": "code",
   "execution_count": 39,
   "metadata": {
    "ExecuteTime": {
     "end_time": "2021-04-24T03:32:29.730640Z",
     "start_time": "2021-04-24T03:32:29.718638Z"
    }
   },
   "outputs": [
    {
     "name": "stderr",
     "output_type": "stream",
     "text": [
      "C:\\Users\\BARONI\\AppData\\Roaming\\Python\\Python38\\site-packages\\pandas\\core\\frame.py:4300: SettingWithCopyWarning: \n",
      "A value is trying to be set on a copy of a slice from a DataFrame\n",
      "\n",
      "See the caveats in the documentation: https://pandas.pydata.org/pandas-docs/stable/user_guide/indexing.html#returning-a-view-versus-a-copy\n",
      "  return super().rename(\n"
     ]
    }
   ],
   "source": [
    "Super_Reason_Day_TempoEfetivoProducao.rename(columns = {'Minutes_x':'Minutes','SomaPerdas1_7_x':'SomaPerdas1_7'}, inplace = True)"
   ]
  },
  {
   "cell_type": "code",
   "execution_count": 40,
   "metadata": {
    "ExecuteTime": {
     "end_time": "2021-04-24T03:33:45.472505Z",
     "start_time": "2021-04-24T03:33:45.450563Z"
    },
    "scrolled": false
   },
   "outputs": [
    {
     "data": {
      "text/html": [
       "<div>\n",
       "<style scoped>\n",
       "    .dataframe tbody tr th:only-of-type {\n",
       "        vertical-align: middle;\n",
       "    }\n",
       "\n",
       "    .dataframe tbody tr th {\n",
       "        vertical-align: top;\n",
       "    }\n",
       "\n",
       "    .dataframe thead th {\n",
       "        text-align: right;\n",
       "    }\n",
       "</style>\n",
       "<table border=\"1\" class=\"dataframe\">\n",
       "  <thead>\n",
       "    <tr style=\"text-align: right;\">\n",
       "      <th></th>\n",
       "      <th>Date1</th>\n",
       "      <th>Ativo</th>\n",
       "      <th>Date</th>\n",
       "      <th>SKUs</th>\n",
       "      <th>Super Razao</th>\n",
       "      <th>Minutes</th>\n",
       "      <th>HoraValida</th>\n",
       "      <th>%</th>\n",
       "    </tr>\n",
       "  </thead>\n",
       "  <tbody>\n",
       "    <tr>\n",
       "      <th>10</th>\n",
       "      <td>20180103</td>\n",
       "      <td>LINHA 01</td>\n",
       "      <td>03/01/2018</td>\n",
       "      <td>CHOCOLATE BRANCO 90G</td>\n",
       "      <td>Tempo Efetivo Producao</td>\n",
       "      <td>99.0</td>\n",
       "      <td>960</td>\n",
       "      <td>0.103125</td>\n",
       "    </tr>\n",
       "    <tr>\n",
       "      <th>18</th>\n",
       "      <td>20180104</td>\n",
       "      <td>LINHA 01</td>\n",
       "      <td>04/01/2018</td>\n",
       "      <td>CHOCOLATE BRANCO 90G</td>\n",
       "      <td>Tempo Efetivo Producao</td>\n",
       "      <td>970.0</td>\n",
       "      <td>1440</td>\n",
       "      <td>0.673611</td>\n",
       "    </tr>\n",
       "  </tbody>\n",
       "</table>\n",
       "</div>"
      ],
      "text/plain": [
       "       Date1     Ativo         Date                  SKUs  \\\n",
       "10  20180103  LINHA 01  03/01/2018   CHOCOLATE BRANCO 90G   \n",
       "18  20180104  LINHA 01  04/01/2018   CHOCOLATE BRANCO 90G   \n",
       "\n",
       "               Super Razao  Minutes  HoraValida         %  \n",
       "10  Tempo Efetivo Producao     99.0         960  0.103125  \n",
       "18  Tempo Efetivo Producao    970.0        1440  0.673611  "
      ]
     },
     "execution_count": 40,
     "metadata": {},
     "output_type": "execute_result"
    }
   ],
   "source": [
    "df1 = Super_Reason_Day_TempoEfetivoProducao[['Date1','Ativo','Date','SKUs','Super Razao','Minutes','HoraValida','%']]\n",
    "df1.head(2)\n",
    "#Finalizado a criação do dataset principal para os valores de tempo efetivo de produção diária para cada linha/SKU"
   ]
  },
  {
   "cell_type": "code",
   "execution_count": 43,
   "metadata": {
    "ExecuteTime": {
     "end_time": "2021-04-24T03:35:05.703507Z",
     "start_time": "2021-04-24T03:35:05.671597Z"
    },
    "scrolled": true
   },
   "outputs": [
    {
     "name": "stderr",
     "output_type": "stream",
     "text": [
      "C:\\Users\\BARONI\\AppData\\Roaming\\Python\\Python38\\site-packages\\pandas\\core\\frame.py:4300: SettingWithCopyWarning: \n",
      "A value is trying to be set on a copy of a slice from a DataFrame\n",
      "\n",
      "See the caveats in the documentation: https://pandas.pydata.org/pandas-docs/stable/user_guide/indexing.html#returning-a-view-versus-a-copy\n",
      "  return super().rename(\n"
     ]
    },
    {
     "data": {
      "text/html": [
       "<div>\n",
       "<style scoped>\n",
       "    .dataframe tbody tr th:only-of-type {\n",
       "        vertical-align: middle;\n",
       "    }\n",
       "\n",
       "    .dataframe tbody tr th {\n",
       "        vertical-align: top;\n",
       "    }\n",
       "\n",
       "    .dataframe thead th {\n",
       "        text-align: right;\n",
       "    }\n",
       "</style>\n",
       "<table border=\"1\" class=\"dataframe\">\n",
       "  <thead>\n",
       "    <tr style=\"text-align: right;\">\n",
       "      <th></th>\n",
       "      <th>Date1</th>\n",
       "      <th>Ativo</th>\n",
       "      <th>Date</th>\n",
       "      <th>SKUs</th>\n",
       "      <th>Super Razao</th>\n",
       "      <th>Minutes</th>\n",
       "      <th>HoraValida</th>\n",
       "      <th>%</th>\n",
       "    </tr>\n",
       "  </thead>\n",
       "  <tbody>\n",
       "    <tr>\n",
       "      <th>0</th>\n",
       "      <td>20180101</td>\n",
       "      <td>LINHA 01</td>\n",
       "      <td>01/01/2018</td>\n",
       "      <td>CHOCOLATE BRANCO 90G</td>\n",
       "      <td>Perda 2 - Feriados</td>\n",
       "      <td>1440.0</td>\n",
       "      <td>0</td>\n",
       "      <td>inf</td>\n",
       "    </tr>\n",
       "    <tr>\n",
       "      <th>1</th>\n",
       "      <td>20180101</td>\n",
       "      <td>LINHA 02</td>\n",
       "      <td>01/01/2018</td>\n",
       "      <td>SEM PLANEJAMENTO</td>\n",
       "      <td>Perda 2 - Feriados</td>\n",
       "      <td>1440.0</td>\n",
       "      <td>0</td>\n",
       "      <td>inf</td>\n",
       "    </tr>\n",
       "  </tbody>\n",
       "</table>\n",
       "</div>"
      ],
      "text/plain": [
       "      Date1     Ativo         Date                  SKUs         Super Razao  \\\n",
       "0  20180101  LINHA 01  01/01/2018   CHOCOLATE BRANCO 90G  Perda 2 - Feriados   \n",
       "1  20180101  LINHA 02  01/01/2018       SEM PLANEJAMENTO  Perda 2 - Feriados   \n",
       "\n",
       "   Minutes  HoraValida    %  \n",
       "0   1440.0           0  inf  \n",
       "1   1440.0           0  inf  "
      ]
     },
     "execution_count": 43,
     "metadata": {},
     "output_type": "execute_result"
    }
   ],
   "source": [
    "df2 = df_Produtivity[['Date1','Ativo','Date','SKUs','Super Razao','Minutes_x','HoraValida','%']]\n",
    "df2.rename(columns = {'Minutes_x':'Minutes'}, inplace = True)\n",
    "df2.head(2)\n",
    "#Criação do dataset que consta todas as perdas de produção e seus respectivos tempos"
   ]
  },
  {
   "cell_type": "code",
   "execution_count": 44,
   "metadata": {
    "ExecuteTime": {
     "end_time": "2021-04-24T03:35:36.802389Z",
     "start_time": "2021-04-24T03:35:36.772469Z"
    }
   },
   "outputs": [
    {
     "name": "stderr",
     "output_type": "stream",
     "text": [
      "C:\\Users\\BARONI\\AppData\\Roaming\\Python\\Python38\\site-packages\\pandas\\core\\series.py:4575: SettingWithCopyWarning: \n",
      "A value is trying to be set on a copy of a slice from a DataFrame\n",
      "\n",
      "See the caveats in the documentation: https://pandas.pydata.org/pandas-docs/stable/user_guide/indexing.html#returning-a-view-versus-a-copy\n",
      "  return super().replace(\n"
     ]
    }
   ],
   "source": [
    "df2['%'].replace(['inf'], '0', inplace = True)"
   ]
  },
  {
   "cell_type": "markdown",
   "metadata": {},
   "source": [
    "##### *Production Data Cleaning*\n",
    "\n",
    "Tratamento dos dados a partir de um novo banco de dados sobre produção diária de caixas."
   ]
  },
  {
   "cell_type": "code",
   "execution_count": 46,
   "metadata": {
    "ExecuteTime": {
     "end_time": "2021-04-24T03:38:24.206259Z",
     "start_time": "2021-04-24T03:38:24.070780Z"
    }
   },
   "outputs": [],
   "source": [
    "#import dataset previously treated: Production_2018_2020.csv\n",
    "Prod = pd.read_csv('Production_2018_2020.csv')\n",
    "pd.set_option('display.max_rows', 1000)"
   ]
  },
  {
   "cell_type": "code",
   "execution_count": 47,
   "metadata": {
    "ExecuteTime": {
     "end_time": "2021-04-24T03:38:26.204404Z",
     "start_time": "2021-04-24T03:38:26.186455Z"
    }
   },
   "outputs": [],
   "source": [
    "Prod = Prod[['Work Centre','Confirmation date','Material Description','Confirmation Qty']]"
   ]
  },
  {
   "cell_type": "code",
   "execution_count": 48,
   "metadata": {
    "ExecuteTime": {
     "end_time": "2021-04-24T03:38:27.678425Z",
     "start_time": "2021-04-24T03:38:27.671445Z"
    }
   },
   "outputs": [],
   "source": [
    "Prod.rename(columns = {'Work Centre':'Ativo','Material Description':'SKUs','Confirmation date':'Date','Confirmation Qty':'Box Qty'}, inplace = True)"
   ]
  },
  {
   "cell_type": "code",
   "execution_count": 50,
   "metadata": {
    "ExecuteTime": {
     "end_time": "2021-04-24T03:38:35.369135Z",
     "start_time": "2021-04-24T03:38:35.352182Z"
    }
   },
   "outputs": [
    {
     "data": {
      "text/plain": [
       "array(['BFB1', 'CERMEX', 'D003', 'D01', 'D02', 'BFB2', 'BFB3', nan],\n",
       "      dtype=object)"
      ]
     },
     "execution_count": 50,
     "metadata": {},
     "output_type": "execute_result"
    }
   ],
   "source": [
    "Prod['Ativo'].unique()"
   ]
  },
  {
   "cell_type": "code",
   "execution_count": 51,
   "metadata": {
    "ExecuteTime": {
     "end_time": "2021-04-24T03:38:38.417243Z",
     "start_time": "2021-04-24T03:38:38.379348Z"
    }
   },
   "outputs": [],
   "source": [
    "Prod['Ativo'].replace(['BFB1','CERMEX','D01'], 'LINHA 01', inplace = True)\n",
    "Prod['Ativo'].replace(['BFB2','D02'], 'LINHA 02', inplace = True)\n",
    "Prod['Ativo'].replace(['BFB3','D003'], 'LINHA 03', inplace = True)"
   ]
  },
  {
   "cell_type": "code",
   "execution_count": 52,
   "metadata": {
    "ExecuteTime": {
     "end_time": "2021-04-24T03:38:43.052719Z",
     "start_time": "2021-04-24T03:38:43.022832Z"
    }
   },
   "outputs": [],
   "source": [
    "Prod['Date']=Prod['Date'].astype(str)"
   ]
  },
  {
   "cell_type": "code",
   "execution_count": 53,
   "metadata": {
    "ExecuteTime": {
     "end_time": "2021-04-24T03:38:43.903021Z",
     "start_time": "2021-04-24T03:38:43.772371Z"
    }
   },
   "outputs": [],
   "source": [
    "Prod['Date1'] = Prod['Date'].apply(lambda x: x[6:]+x[3:5]+x[0:2])"
   ]
  },
  {
   "cell_type": "code",
   "execution_count": 54,
   "metadata": {
    "ExecuteTime": {
     "end_time": "2021-04-24T03:38:49.922799Z",
     "start_time": "2021-04-24T03:38:49.882908Z"
    },
    "scrolled": false
   },
   "outputs": [
    {
     "data": {
      "text/html": [
       "<div>\n",
       "<style scoped>\n",
       "    .dataframe tbody tr th:only-of-type {\n",
       "        vertical-align: middle;\n",
       "    }\n",
       "\n",
       "    .dataframe tbody tr th {\n",
       "        vertical-align: top;\n",
       "    }\n",
       "\n",
       "    .dataframe thead th {\n",
       "        text-align: right;\n",
       "    }\n",
       "</style>\n",
       "<table border=\"1\" class=\"dataframe\">\n",
       "  <thead>\n",
       "    <tr style=\"text-align: right;\">\n",
       "      <th></th>\n",
       "      <th>Date1</th>\n",
       "      <th>Ativo</th>\n",
       "      <th>Date</th>\n",
       "      <th>SKUs</th>\n",
       "      <th>Box Qty</th>\n",
       "    </tr>\n",
       "  </thead>\n",
       "  <tbody>\n",
       "    <tr>\n",
       "      <th>0</th>\n",
       "      <td>20181201</td>\n",
       "      <td>LINHA 01</td>\n",
       "      <td>01/12/2018</td>\n",
       "      <td>CHOCOLATE BRANCO  90G COMBO3</td>\n",
       "      <td>0,000</td>\n",
       "    </tr>\n",
       "    <tr>\n",
       "      <th>1</th>\n",
       "      <td>20181202</td>\n",
       "      <td>LINHA 01</td>\n",
       "      <td>02/12/2018</td>\n",
       "      <td>CHOCOLATE BRANCO  90G COMBO3</td>\n",
       "      <td>0,000</td>\n",
       "    </tr>\n",
       "  </tbody>\n",
       "</table>\n",
       "</div>"
      ],
      "text/plain": [
       "      Date1     Ativo        Date                          SKUs Box Qty\n",
       "0  20181201  LINHA 01  01/12/2018  CHOCOLATE BRANCO  90G COMBO3   0,000\n",
       "1  20181202  LINHA 01  02/12/2018  CHOCOLATE BRANCO  90G COMBO3   0,000"
      ]
     },
     "execution_count": 54,
     "metadata": {},
     "output_type": "execute_result"
    }
   ],
   "source": [
    "Prod = Prod[['Date1','Ativo','Date','SKUs','Box Qty']]\n",
    "Prod.head(2)"
   ]
  },
  {
   "cell_type": "code",
   "execution_count": 55,
   "metadata": {
    "ExecuteTime": {
     "end_time": "2021-04-24T03:40:58.400687Z",
     "start_time": "2021-04-24T03:40:58.389717Z"
    }
   },
   "outputs": [],
   "source": [
    "def replace_object (row):\n",
    "    '''Esta função exclui os (3) zeros após a vírgula do valor e  também exclui o caracter ponto (.)'''\n",
    "    if row == row:\n",
    "        row = row.replace(',000','')\n",
    "        row = row.replace('.','')\n",
    "        return int(row)\n",
    "    else:\n",
    "        return 0"
   ]
  },
  {
   "cell_type": "code",
   "execution_count": 56,
   "metadata": {
    "ExecuteTime": {
     "end_time": "2021-04-24T03:41:01.448263Z",
     "start_time": "2021-04-24T03:41:01.269533Z"
    },
    "scrolled": true
   },
   "outputs": [],
   "source": [
    "Prod['Box Qty'] = Prod['Box Qty'].apply(replace_object)"
   ]
  },
  {
   "cell_type": "code",
   "execution_count": 57,
   "metadata": {
    "ExecuteTime": {
     "end_time": "2021-04-24T03:41:32.392831Z",
     "start_time": "2021-04-24T03:41:32.326972Z"
    },
    "scrolled": true
   },
   "outputs": [
    {
     "data": {
      "text/html": [
       "<div>\n",
       "<style scoped>\n",
       "    .dataframe tbody tr th:only-of-type {\n",
       "        vertical-align: middle;\n",
       "    }\n",
       "\n",
       "    .dataframe tbody tr th {\n",
       "        vertical-align: top;\n",
       "    }\n",
       "\n",
       "    .dataframe thead th {\n",
       "        text-align: right;\n",
       "    }\n",
       "</style>\n",
       "<table border=\"1\" class=\"dataframe\">\n",
       "  <thead>\n",
       "    <tr style=\"text-align: right;\">\n",
       "      <th></th>\n",
       "      <th>Date1</th>\n",
       "      <th>Ativo</th>\n",
       "      <th>Date</th>\n",
       "      <th>SKUs</th>\n",
       "      <th>Box Qty</th>\n",
       "    </tr>\n",
       "  </thead>\n",
       "  <tbody>\n",
       "    <tr>\n",
       "      <th>0</th>\n",
       "      <td>20180104</td>\n",
       "      <td>LINHA 01</td>\n",
       "      <td>04/01/2018</td>\n",
       "      <td>CHOCOLATE BRANCO 90G</td>\n",
       "      <td>7524</td>\n",
       "    </tr>\n",
       "    <tr>\n",
       "      <th>1</th>\n",
       "      <td>20180105</td>\n",
       "      <td>LINHA 01</td>\n",
       "      <td>05/01/2018</td>\n",
       "      <td>CHOCOLATE BRANCO 90G</td>\n",
       "      <td>10773</td>\n",
       "    </tr>\n",
       "  </tbody>\n",
       "</table>\n",
       "</div>"
      ],
      "text/plain": [
       "      Date1     Ativo        Date                  SKUs  Box Qty\n",
       "0  20180104  LINHA 01  04/01/2018  CHOCOLATE BRANCO 90G     7524\n",
       "1  20180105  LINHA 01  05/01/2018  CHOCOLATE BRANCO 90G    10773"
      ]
     },
     "execution_count": 57,
     "metadata": {},
     "output_type": "execute_result"
    }
   ],
   "source": [
    "ProdGroup = Prod.groupby(['Date1','Ativo','Date','SKUs'],as_index = False).sum()\n",
    "ProdGroup.head(2)"
   ]
  },
  {
   "cell_type": "markdown",
   "metadata": {},
   "source": [
    "# Unindo as duas tabelas de tempo efetivo de produção com volume de caixas produzidas"
   ]
  },
  {
   "cell_type": "code",
   "execution_count": 58,
   "metadata": {
    "ExecuteTime": {
     "end_time": "2021-04-24T03:42:20.887818Z",
     "start_time": "2021-04-24T03:42:20.847960Z"
    },
    "scrolled": true
   },
   "outputs": [
    {
     "data": {
      "text/html": [
       "<div>\n",
       "<style scoped>\n",
       "    .dataframe tbody tr th:only-of-type {\n",
       "        vertical-align: middle;\n",
       "    }\n",
       "\n",
       "    .dataframe tbody tr th {\n",
       "        vertical-align: top;\n",
       "    }\n",
       "\n",
       "    .dataframe thead th {\n",
       "        text-align: right;\n",
       "    }\n",
       "</style>\n",
       "<table border=\"1\" class=\"dataframe\">\n",
       "  <thead>\n",
       "    <tr style=\"text-align: right;\">\n",
       "      <th></th>\n",
       "      <th>Date1</th>\n",
       "      <th>Ativo</th>\n",
       "      <th>Date_x</th>\n",
       "      <th>SKUs</th>\n",
       "      <th>Super Razao</th>\n",
       "      <th>Minutes</th>\n",
       "      <th>HoraValida</th>\n",
       "      <th>%</th>\n",
       "      <th>Date_y</th>\n",
       "      <th>Box Qty</th>\n",
       "    </tr>\n",
       "  </thead>\n",
       "  <tbody>\n",
       "    <tr>\n",
       "      <th>0</th>\n",
       "      <td>20180103</td>\n",
       "      <td>LINHA 01</td>\n",
       "      <td>03/01/2018</td>\n",
       "      <td>CHOCOLATE BRANCO 90G</td>\n",
       "      <td>Tempo Efetivo Producao</td>\n",
       "      <td>99.0</td>\n",
       "      <td>960</td>\n",
       "      <td>0.103125</td>\n",
       "      <td>NaN</td>\n",
       "      <td>NaN</td>\n",
       "    </tr>\n",
       "    <tr>\n",
       "      <th>1</th>\n",
       "      <td>20180104</td>\n",
       "      <td>LINHA 01</td>\n",
       "      <td>04/01/2018</td>\n",
       "      <td>CHOCOLATE BRANCO 90G</td>\n",
       "      <td>Tempo Efetivo Producao</td>\n",
       "      <td>970.0</td>\n",
       "      <td>1440</td>\n",
       "      <td>0.673611</td>\n",
       "      <td>04/01/2018</td>\n",
       "      <td>7524.0</td>\n",
       "    </tr>\n",
       "  </tbody>\n",
       "</table>\n",
       "</div>"
      ],
      "text/plain": [
       "      Date1     Ativo       Date_x                  SKUs  \\\n",
       "0  20180103  LINHA 01  03/01/2018   CHOCOLATE BRANCO 90G   \n",
       "1  20180104  LINHA 01  04/01/2018   CHOCOLATE BRANCO 90G   \n",
       "\n",
       "              Super Razao  Minutes  HoraValida         %      Date_y  Box Qty  \n",
       "0  Tempo Efetivo Producao     99.0         960  0.103125         NaN      NaN  \n",
       "1  Tempo Efetivo Producao    970.0        1440  0.673611  04/01/2018   7524.0  "
      ]
     },
     "execution_count": 58,
     "metadata": {},
     "output_type": "execute_result"
    }
   ],
   "source": [
    "df3 = pd.merge(df1,ProdGroup,how=\"left\",on=['Date1','Ativo','SKUs'])\n",
    "df3.head(2)"
   ]
  },
  {
   "cell_type": "markdown",
   "metadata": {},
   "source": [
    "# criando tabela final excluido os dados nulos da coluna Box Qty"
   ]
  },
  {
   "cell_type": "code",
   "execution_count": 61,
   "metadata": {
    "ExecuteTime": {
     "end_time": "2021-04-24T03:44:49.096147Z",
     "start_time": "2021-04-24T03:44:49.060280Z"
    },
    "scrolled": true
   },
   "outputs": [
    {
     "name": "stderr",
     "output_type": "stream",
     "text": [
      "C:\\Users\\BARONI\\AppData\\Roaming\\Python\\Python38\\site-packages\\pandas\\core\\frame.py:4300: SettingWithCopyWarning: \n",
      "A value is trying to be set on a copy of a slice from a DataFrame\n",
      "\n",
      "See the caveats in the documentation: https://pandas.pydata.org/pandas-docs/stable/user_guide/indexing.html#returning-a-view-versus-a-copy\n",
      "  return super().rename(\n"
     ]
    },
    {
     "data": {
      "text/html": [
       "<div>\n",
       "<style scoped>\n",
       "    .dataframe tbody tr th:only-of-type {\n",
       "        vertical-align: middle;\n",
       "    }\n",
       "\n",
       "    .dataframe tbody tr th {\n",
       "        vertical-align: top;\n",
       "    }\n",
       "\n",
       "    .dataframe thead th {\n",
       "        text-align: right;\n",
       "    }\n",
       "</style>\n",
       "<table border=\"1\" class=\"dataframe\">\n",
       "  <thead>\n",
       "    <tr style=\"text-align: right;\">\n",
       "      <th></th>\n",
       "      <th>Date1</th>\n",
       "      <th>Ativo</th>\n",
       "      <th>Date</th>\n",
       "      <th>SKUs</th>\n",
       "      <th>Super Razao</th>\n",
       "      <th>Minutes</th>\n",
       "      <th>HoraValida</th>\n",
       "      <th>%</th>\n",
       "      <th>Box Qty</th>\n",
       "    </tr>\n",
       "  </thead>\n",
       "  <tbody>\n",
       "    <tr>\n",
       "      <th>1</th>\n",
       "      <td>20180104</td>\n",
       "      <td>LINHA 01</td>\n",
       "      <td>04/01/2018</td>\n",
       "      <td>CHOCOLATE BRANCO 90G</td>\n",
       "      <td>Tempo Efetivo Producao</td>\n",
       "      <td>970.0</td>\n",
       "      <td>1440</td>\n",
       "      <td>0.673611</td>\n",
       "      <td>7524.0</td>\n",
       "    </tr>\n",
       "    <tr>\n",
       "      <th>3</th>\n",
       "      <td>20180105</td>\n",
       "      <td>LINHA 01</td>\n",
       "      <td>05/01/2018</td>\n",
       "      <td>CHOCOLATE BRANCO 90G</td>\n",
       "      <td>Tempo Efetivo Producao</td>\n",
       "      <td>1128.0</td>\n",
       "      <td>1436</td>\n",
       "      <td>0.785515</td>\n",
       "      <td>10773.0</td>\n",
       "    </tr>\n",
       "  </tbody>\n",
       "</table>\n",
       "</div>"
      ],
      "text/plain": [
       "      Date1     Ativo         Date                  SKUs  \\\n",
       "1  20180104  LINHA 01  04/01/2018   CHOCOLATE BRANCO 90G   \n",
       "3  20180105  LINHA 01  05/01/2018   CHOCOLATE BRANCO 90G   \n",
       "\n",
       "              Super Razao  Minutes  HoraValida         %  Box Qty  \n",
       "1  Tempo Efetivo Producao    970.0        1440  0.673611   7524.0  \n",
       "3  Tempo Efetivo Producao   1128.0        1436  0.785515  10773.0  "
      ]
     },
     "execution_count": 61,
     "metadata": {},
     "output_type": "execute_result"
    }
   ],
   "source": [
    "df4 = df3.loc[df3['Box Qty'].notnull()]\n",
    "df4.rename(columns = {'Date_x':'Date'}, inplace = True)\n",
    "df4 = df4[['Date1','Ativo','Date','SKUs','Super Razao','Minutes','HoraValida','%','Box Qty']]\n",
    "df4.head(2)"
   ]
  },
  {
   "cell_type": "code",
   "execution_count": 180,
   "metadata": {
    "ExecuteTime": {
     "end_time": "2021-04-15T20:35:49.928232Z",
     "start_time": "2021-04-15T20:35:44.569190Z"
    }
   },
   "outputs": [],
   "source": [
    "df.to_csv(\"df_geral.csv\")\n",
    "df1.to_csv(\"df_eficiencia_producao.csv\")\n",
    "df2.to_csv(\"df_perdas.csv\")\n",
    "ProdGroup.to_csv(\"df_producao.csv\")\n",
    "Super_Reason_Shift.to_csv(\"df_tempo_producao_turno.csv\")\n",
    "Super_Reason_Day.to_csv(\"df_tempo_producao_dia.csv\")\n",
    "df4.to_csv(\"df_production_time.csv\")"
   ]
  }
 ],
 "metadata": {
  "kernelspec": {
   "display_name": "Python 3",
   "language": "python",
   "name": "python3"
  },
  "language_info": {
   "codemirror_mode": {
    "name": "ipython",
    "version": 3
   },
   "file_extension": ".py",
   "mimetype": "text/x-python",
   "name": "python",
   "nbconvert_exporter": "python",
   "pygments_lexer": "ipython3",
   "version": "3.8.3"
  },
  "toc": {
   "base_numbering": 1,
   "nav_menu": {},
   "number_sections": true,
   "sideBar": true,
   "skip_h1_title": false,
   "title_cell": "Table of Contents",
   "title_sidebar": "Contents",
   "toc_cell": false,
   "toc_position": {},
   "toc_section_display": true,
   "toc_window_display": false
  },
  "varInspector": {
   "cols": {
    "lenName": 16,
    "lenType": 16,
    "lenVar": 40
   },
   "kernels_config": {
    "python": {
     "delete_cmd_postfix": "",
     "delete_cmd_prefix": "del ",
     "library": "var_list.py",
     "varRefreshCmd": "print(var_dic_list())"
    },
    "r": {
     "delete_cmd_postfix": ") ",
     "delete_cmd_prefix": "rm(",
     "library": "var_list.r",
     "varRefreshCmd": "cat(var_dic_list()) "
    }
   },
   "types_to_exclude": [
    "module",
    "function",
    "builtin_function_or_method",
    "instance",
    "_Feature"
   ],
   "window_display": false
  }
 },
 "nbformat": 4,
 "nbformat_minor": 4
}
